{
 "cells": [
  {
   "cell_type": "markdown",
   "metadata": {},
   "source": [
    "BANK BETA PROJECT\n",
    "--\n",
    "Los clientes de Beta Bank se están yendo, cada mes, poco a poco. Los banqueros descubrieron que es más barato salvar a los clientes existentes que atraer nuevos.\n",
    "\n",
    "Haremos predicciones de si un cliente dejará el banco pronto. Tenemos los datos sobre el comportamiento pasado de los clientes y la terminación de contratos con el banco.\n",
    "\n",
    "Crearemos un modelo con el máximo valor F1 posible. Para aprobar la revisión, necesitaremos un valor F1 de al menos 0.59. Verificaremos F1 para el conjunto de prueba. \n",
    "\n",
    "Además, mediremos la métrica AUC-ROC y compararemos con el valor F1."
   ]
  },
  {
   "cell_type": "markdown",
   "metadata": {},
   "source": [
    "ANALISIS Y PREPARACION DE DATOS. \n",
    "---\n",
    "Importar librerias para DataFrames y ML, donde buscaremos el mejor modelo que pueda ayudarnos a predecir correctamente si un cliente dejo de ser cliente o no. \n",
    "Revisar si el DF esta completo o le hace falta datos, hacer la división en conjunto de datos para el entrenamiento, validacion y prueba del modelo. \n",
    "Calificar las predicciones para determinar el mejor modelo y arreglar los datos en caso de un desequilibrio de datos, un sobremuestreo o un sobmuestreo."
   ]
  },
  {
   "cell_type": "code",
   "execution_count": 1,
   "metadata": {},
   "outputs": [],
   "source": [
    "#IMPORTAR LIBRERIAS\n",
    "import pandas as pd\n",
    "import numpy as np\n",
    "import matplotlib.pyplot as plt\n",
    "\n",
    "from sklearn.model_selection import train_test_split\n",
    "from sklearn.preprocessing import StandardScaler\n",
    "from sklearn.tree import DecisionTreeClassifier\n",
    "from sklearn.ensemble import RandomForestClassifier\n",
    "from sklearn.linear_model import LogisticRegression\n",
    "from sklearn.metrics import accuracy_score\n",
    "from sklearn.metrics import f1_score\n",
    "from sklearn.metrics import precision_score\n",
    "from sklearn.metrics import recall_score\n",
    "from sklearn.metrics import confusion_matrix\n",
    "from sklearn.preprocessing import OrdinalEncoder\n",
    "from sklearn.utils import shuffle\n",
    "from sklearn.metrics import precision_recall_curve\n",
    "from sklearn.metrics import roc_curve\n",
    "from sklearn.metrics import roc_auc_score"
   ]
  },
  {
   "cell_type": "code",
   "execution_count": 2,
   "metadata": {},
   "outputs": [
    {
     "name": "stdout",
     "output_type": "stream",
     "text": [
      "<class 'pandas.core.frame.DataFrame'>\n",
      "RangeIndex: 10000 entries, 0 to 9999\n",
      "Data columns (total 14 columns):\n",
      " #   Column           Non-Null Count  Dtype  \n",
      "---  ------           --------------  -----  \n",
      " 0   RowNumber        10000 non-null  int64  \n",
      " 1   CustomerId       10000 non-null  int64  \n",
      " 2   Surname          10000 non-null  object \n",
      " 3   CreditScore      10000 non-null  int64  \n",
      " 4   Geography        10000 non-null  object \n",
      " 5   Gender           10000 non-null  object \n",
      " 6   Age              10000 non-null  int64  \n",
      " 7   Tenure           9091 non-null   float64\n",
      " 8   Balance          10000 non-null  float64\n",
      " 9   NumOfProducts    10000 non-null  int64  \n",
      " 10  HasCrCard        10000 non-null  int64  \n",
      " 11  IsActiveMember   10000 non-null  int64  \n",
      " 12  EstimatedSalary  10000 non-null  float64\n",
      " 13  Exited           10000 non-null  int64  \n",
      "dtypes: float64(3), int64(8), object(3)\n",
      "memory usage: 1.1+ MB\n"
     ]
    },
    {
     "data": {
      "text/plain": [
       "RowNumber            int64\n",
       "CustomerId           int64\n",
       "Surname             object\n",
       "CreditScore          int64\n",
       "Geography           object\n",
       "Gender              object\n",
       "Age                  int64\n",
       "Tenure             float64\n",
       "Balance            float64\n",
       "NumOfProducts        int64\n",
       "HasCrCard            int64\n",
       "IsActiveMember       int64\n",
       "EstimatedSalary    float64\n",
       "Exited               int64\n",
       "dtype: object"
      ]
     },
     "metadata": {},
     "output_type": "display_data"
    },
    {
     "data": {
      "text/html": [
       "<div>\n",
       "<style scoped>\n",
       "    .dataframe tbody tr th:only-of-type {\n",
       "        vertical-align: middle;\n",
       "    }\n",
       "\n",
       "    .dataframe tbody tr th {\n",
       "        vertical-align: top;\n",
       "    }\n",
       "\n",
       "    .dataframe thead th {\n",
       "        text-align: right;\n",
       "    }\n",
       "</style>\n",
       "<table border=\"1\" class=\"dataframe\">\n",
       "  <thead>\n",
       "    <tr style=\"text-align: right;\">\n",
       "      <th></th>\n",
       "      <th>RowNumber</th>\n",
       "      <th>CustomerId</th>\n",
       "      <th>Surname</th>\n",
       "      <th>CreditScore</th>\n",
       "      <th>Geography</th>\n",
       "      <th>Gender</th>\n",
       "      <th>Age</th>\n",
       "      <th>Tenure</th>\n",
       "      <th>Balance</th>\n",
       "      <th>NumOfProducts</th>\n",
       "      <th>HasCrCard</th>\n",
       "      <th>IsActiveMember</th>\n",
       "      <th>EstimatedSalary</th>\n",
       "      <th>Exited</th>\n",
       "    </tr>\n",
       "  </thead>\n",
       "  <tbody>\n",
       "    <tr>\n",
       "      <th>0</th>\n",
       "      <td>1</td>\n",
       "      <td>15634602</td>\n",
       "      <td>Hargrave</td>\n",
       "      <td>619</td>\n",
       "      <td>France</td>\n",
       "      <td>Female</td>\n",
       "      <td>42</td>\n",
       "      <td>2.0</td>\n",
       "      <td>0.00</td>\n",
       "      <td>1</td>\n",
       "      <td>1</td>\n",
       "      <td>1</td>\n",
       "      <td>101348.88</td>\n",
       "      <td>1</td>\n",
       "    </tr>\n",
       "    <tr>\n",
       "      <th>1</th>\n",
       "      <td>2</td>\n",
       "      <td>15647311</td>\n",
       "      <td>Hill</td>\n",
       "      <td>608</td>\n",
       "      <td>Spain</td>\n",
       "      <td>Female</td>\n",
       "      <td>41</td>\n",
       "      <td>1.0</td>\n",
       "      <td>83807.86</td>\n",
       "      <td>1</td>\n",
       "      <td>0</td>\n",
       "      <td>1</td>\n",
       "      <td>112542.58</td>\n",
       "      <td>0</td>\n",
       "    </tr>\n",
       "    <tr>\n",
       "      <th>2</th>\n",
       "      <td>3</td>\n",
       "      <td>15619304</td>\n",
       "      <td>Onio</td>\n",
       "      <td>502</td>\n",
       "      <td>France</td>\n",
       "      <td>Female</td>\n",
       "      <td>42</td>\n",
       "      <td>8.0</td>\n",
       "      <td>159660.80</td>\n",
       "      <td>3</td>\n",
       "      <td>1</td>\n",
       "      <td>0</td>\n",
       "      <td>113931.57</td>\n",
       "      <td>1</td>\n",
       "    </tr>\n",
       "    <tr>\n",
       "      <th>3</th>\n",
       "      <td>4</td>\n",
       "      <td>15701354</td>\n",
       "      <td>Boni</td>\n",
       "      <td>699</td>\n",
       "      <td>France</td>\n",
       "      <td>Female</td>\n",
       "      <td>39</td>\n",
       "      <td>1.0</td>\n",
       "      <td>0.00</td>\n",
       "      <td>2</td>\n",
       "      <td>0</td>\n",
       "      <td>0</td>\n",
       "      <td>93826.63</td>\n",
       "      <td>0</td>\n",
       "    </tr>\n",
       "    <tr>\n",
       "      <th>4</th>\n",
       "      <td>5</td>\n",
       "      <td>15737888</td>\n",
       "      <td>Mitchell</td>\n",
       "      <td>850</td>\n",
       "      <td>Spain</td>\n",
       "      <td>Female</td>\n",
       "      <td>43</td>\n",
       "      <td>2.0</td>\n",
       "      <td>125510.82</td>\n",
       "      <td>1</td>\n",
       "      <td>1</td>\n",
       "      <td>1</td>\n",
       "      <td>79084.10</td>\n",
       "      <td>0</td>\n",
       "    </tr>\n",
       "    <tr>\n",
       "      <th>5</th>\n",
       "      <td>6</td>\n",
       "      <td>15574012</td>\n",
       "      <td>Chu</td>\n",
       "      <td>645</td>\n",
       "      <td>Spain</td>\n",
       "      <td>Male</td>\n",
       "      <td>44</td>\n",
       "      <td>8.0</td>\n",
       "      <td>113755.78</td>\n",
       "      <td>2</td>\n",
       "      <td>1</td>\n",
       "      <td>0</td>\n",
       "      <td>149756.71</td>\n",
       "      <td>1</td>\n",
       "    </tr>\n",
       "    <tr>\n",
       "      <th>6</th>\n",
       "      <td>7</td>\n",
       "      <td>15592531</td>\n",
       "      <td>Bartlett</td>\n",
       "      <td>822</td>\n",
       "      <td>France</td>\n",
       "      <td>Male</td>\n",
       "      <td>50</td>\n",
       "      <td>7.0</td>\n",
       "      <td>0.00</td>\n",
       "      <td>2</td>\n",
       "      <td>1</td>\n",
       "      <td>1</td>\n",
       "      <td>10062.80</td>\n",
       "      <td>0</td>\n",
       "    </tr>\n",
       "    <tr>\n",
       "      <th>7</th>\n",
       "      <td>8</td>\n",
       "      <td>15656148</td>\n",
       "      <td>Obinna</td>\n",
       "      <td>376</td>\n",
       "      <td>Germany</td>\n",
       "      <td>Female</td>\n",
       "      <td>29</td>\n",
       "      <td>4.0</td>\n",
       "      <td>115046.74</td>\n",
       "      <td>4</td>\n",
       "      <td>1</td>\n",
       "      <td>0</td>\n",
       "      <td>119346.88</td>\n",
       "      <td>1</td>\n",
       "    </tr>\n",
       "    <tr>\n",
       "      <th>8</th>\n",
       "      <td>9</td>\n",
       "      <td>15792365</td>\n",
       "      <td>He</td>\n",
       "      <td>501</td>\n",
       "      <td>France</td>\n",
       "      <td>Male</td>\n",
       "      <td>44</td>\n",
       "      <td>4.0</td>\n",
       "      <td>142051.07</td>\n",
       "      <td>2</td>\n",
       "      <td>0</td>\n",
       "      <td>1</td>\n",
       "      <td>74940.50</td>\n",
       "      <td>0</td>\n",
       "    </tr>\n",
       "    <tr>\n",
       "      <th>9</th>\n",
       "      <td>10</td>\n",
       "      <td>15592389</td>\n",
       "      <td>H?</td>\n",
       "      <td>684</td>\n",
       "      <td>France</td>\n",
       "      <td>Male</td>\n",
       "      <td>27</td>\n",
       "      <td>2.0</td>\n",
       "      <td>134603.88</td>\n",
       "      <td>1</td>\n",
       "      <td>1</td>\n",
       "      <td>1</td>\n",
       "      <td>71725.73</td>\n",
       "      <td>0</td>\n",
       "    </tr>\n",
       "  </tbody>\n",
       "</table>\n",
       "</div>"
      ],
      "text/plain": [
       "   RowNumber  CustomerId   Surname  CreditScore Geography  Gender  Age  \\\n",
       "0          1    15634602  Hargrave          619    France  Female   42   \n",
       "1          2    15647311      Hill          608     Spain  Female   41   \n",
       "2          3    15619304      Onio          502    France  Female   42   \n",
       "3          4    15701354      Boni          699    France  Female   39   \n",
       "4          5    15737888  Mitchell          850     Spain  Female   43   \n",
       "5          6    15574012       Chu          645     Spain    Male   44   \n",
       "6          7    15592531  Bartlett          822    France    Male   50   \n",
       "7          8    15656148    Obinna          376   Germany  Female   29   \n",
       "8          9    15792365        He          501    France    Male   44   \n",
       "9         10    15592389        H?          684    France    Male   27   \n",
       "\n",
       "   Tenure    Balance  NumOfProducts  HasCrCard  IsActiveMember  \\\n",
       "0     2.0       0.00              1          1               1   \n",
       "1     1.0   83807.86              1          0               1   \n",
       "2     8.0  159660.80              3          1               0   \n",
       "3     1.0       0.00              2          0               0   \n",
       "4     2.0  125510.82              1          1               1   \n",
       "5     8.0  113755.78              2          1               0   \n",
       "6     7.0       0.00              2          1               1   \n",
       "7     4.0  115046.74              4          1               0   \n",
       "8     4.0  142051.07              2          0               1   \n",
       "9     2.0  134603.88              1          1               1   \n",
       "\n",
       "   EstimatedSalary  Exited  \n",
       "0        101348.88       1  \n",
       "1        112542.58       0  \n",
       "2        113931.57       1  \n",
       "3         93826.63       0  \n",
       "4         79084.10       0  \n",
       "5        149756.71       1  \n",
       "6         10062.80       0  \n",
       "7        119346.88       1  \n",
       "8         74940.50       0  \n",
       "9         71725.73       0  "
      ]
     },
     "metadata": {},
     "output_type": "display_data"
    }
   ],
   "source": [
    "#LEER EL DATAFRAME Y VER SU INFORMACION\n",
    "data = pd.read_csv('dataset/Churn.csv')\n",
    "data.info()\n",
    "display(data.dtypes)\n",
    "display(data.head(10))"
   ]
  },
  {
   "cell_type": "code",
   "execution_count": 3,
   "metadata": {},
   "outputs": [
    {
     "name": "stdout",
     "output_type": "stream",
     "text": [
      "Tenemos varios apellidos, varios son mas comunes que otros: \n",
      " Surname\n",
      "Zimmer               1\n",
      "Zikoranaudodimma     1\n",
      "Zhou                 1\n",
      "Afanasyev            1\n",
      "Akeroyd              1\n",
      "                    ..\n",
      "Brown               26\n",
      "Walker              28\n",
      "Martin              29\n",
      "Scott               29\n",
      "Smith               32\n",
      "Name: Gender, Length: 2932, dtype: int64\n",
      "\n",
      "Tenemos clientes en las siguientes regiones : ['France' 'Spain' 'Germany']\n",
      "Tenemos 4543 mujes y 5457 hombres como clientes\n",
      "La cantidad de clientes que han salido son: 2037, aun tenemos 7963\n"
     ]
    }
   ],
   "source": [
    "#REVISION DE DATOS.\n",
    "geography = data['Geography'].unique()\n",
    "female = data[data['Gender'] == 'Female']['Gender'].count()\n",
    "male = data[data['Gender'] == 'Male']['Gender'].count()\n",
    "exited = data.groupby('Exited')['CustomerId'].count()\n",
    "\n",
    "surnames = data.groupby('Surname')['Gender'].count().sort_values()\n",
    "print('Tenemos varios apellidos, varios son mas comunes que otros: \\n',surnames)\n",
    "\n",
    "print(f'\\nTenemos clientes en las siguientes regiones : {geography}')\n",
    "print(f'Tenemos {female} mujes y {male} hombres como clientes')\n",
    "print(f'La cantidad de clientes que han salido son: {exited[1]}, aun tenemos {exited[0]}')"
   ]
  },
  {
   "cell_type": "code",
   "execution_count": 4,
   "metadata": {},
   "outputs": [
    {
     "name": "stdout",
     "output_type": "stream",
     "text": [
      "909\n",
      "[ 2.  1.  8.  7.  4.  6.  3. 10.  5.  9.  0. nan]\n",
      "La mediana de los datos de Tenure es 5.0 y el promedio de Tenure es 4.997690023099769\n",
      "0\n"
     ]
    }
   ],
   "source": [
    "#ELIMINAR LOS NULOS.\n",
    "print(data['Tenure'].isna().sum())\n",
    "print(data['Tenure'].unique())\n",
    "\n",
    "mean_tenure = data['Tenure'].mean()\n",
    "median_tenure = data['Tenure'].median()\n",
    "\n",
    "print(f'La mediana de los datos de Tenure es {median_tenure} y el promedio de Tenure es {mean_tenure}')\n",
    "\n",
    "data.fillna({'Tenure' : median_tenure}, inplace=True)\n",
    "print(data['Tenure'].isna().sum())"
   ]
  },
  {
   "cell_type": "markdown",
   "metadata": {},
   "source": [
    "__RESUMEN ANALISIS DE DATOS.__  \n",
    "\n",
    "Los datos nulos en la columna Tenure fueron sustituidos por la mediana ya que el promedio resulto ser casi el mismo que la mediana, por lo que dejamos 5 como valor final en las columnas nulas. \n",
    "\n",
    "Podemos ver que los clientes se encuentran en 3 diferentes regiones --> Francia, España y Alemania. \n",
    "Contamos con mas hombres que mujeres como clientes, con un 54.57% de hombres y un 45.43% de mujes. \n",
    "\n",
    "Las columnas RowNumber y Surname no parecen dar ninguna informacion relevante para que el modelo prediga con mayor exactitud. \n",
    "Por esto se eliminaran del DF, para poder escalar los datos de mejor manera. \n"
   ]
  },
  {
   "cell_type": "markdown",
   "metadata": {},
   "source": [
    "<u>**MODIFICAR LAS CARACTERISTICAS PARA EL MODELO.**</u>\n",
    "\n",
    "Aplicar metodo get_dummies en las columnas Geography y Gender, pero excluir Surname ya que no parece tener informacion reveladora para el analisis.\n",
    "Podemos quedarnos con el CustomerId para identificar a los clientes sin afectar su individualidad, solo evitamos tener columnas dummies extras sin un valor importante para la codificacion de los datos.\n",
    "\n",
    "Para hacer una escala mas estandar cambiaremos a todos los datos numericos \n",
    "\n",
    "Creacion de los 3 conjuntos de datos, entrenamiento, validacion y prueba para la enseñar y poner en marcha el modelo de prediccion para identificar cuando un cliente se irá o no. \n"
   ]
  },
  {
   "cell_type": "code",
   "execution_count": 5,
   "metadata": {},
   "outputs": [
    {
     "name": "stdout",
     "output_type": "stream",
     "text": [
      "Index(['RowNumber', 'CustomerId', 'Surname', 'CreditScore', 'Age', 'Tenure',\n",
      "       'Balance', 'NumOfProducts', 'HasCrCard', 'IsActiveMember',\n",
      "       'EstimatedSalary', 'Exited', 'Geography_Germany', 'Geography_Spain',\n",
      "       'Gender_Male'],\n",
      "      dtype='object')\n"
     ]
    },
    {
     "data": {
      "text/html": [
       "<div>\n",
       "<style scoped>\n",
       "    .dataframe tbody tr th:only-of-type {\n",
       "        vertical-align: middle;\n",
       "    }\n",
       "\n",
       "    .dataframe tbody tr th {\n",
       "        vertical-align: top;\n",
       "    }\n",
       "\n",
       "    .dataframe thead th {\n",
       "        text-align: right;\n",
       "    }\n",
       "</style>\n",
       "<table border=\"1\" class=\"dataframe\">\n",
       "  <thead>\n",
       "    <tr style=\"text-align: right;\">\n",
       "      <th></th>\n",
       "      <th>RowNumber</th>\n",
       "      <th>CustomerId</th>\n",
       "      <th>Surname</th>\n",
       "      <th>CreditScore</th>\n",
       "      <th>Age</th>\n",
       "      <th>Tenure</th>\n",
       "      <th>Balance</th>\n",
       "      <th>NumOfProducts</th>\n",
       "      <th>HasCrCard</th>\n",
       "      <th>IsActiveMember</th>\n",
       "      <th>EstimatedSalary</th>\n",
       "      <th>Exited</th>\n",
       "      <th>Geography_Germany</th>\n",
       "      <th>Geography_Spain</th>\n",
       "      <th>Gender_Male</th>\n",
       "    </tr>\n",
       "  </thead>\n",
       "  <tbody>\n",
       "    <tr>\n",
       "      <th>0</th>\n",
       "      <td>1</td>\n",
       "      <td>15634602</td>\n",
       "      <td>Hargrave</td>\n",
       "      <td>619</td>\n",
       "      <td>42</td>\n",
       "      <td>2.0</td>\n",
       "      <td>0.00</td>\n",
       "      <td>1</td>\n",
       "      <td>1</td>\n",
       "      <td>1</td>\n",
       "      <td>101348.88</td>\n",
       "      <td>1</td>\n",
       "      <td>False</td>\n",
       "      <td>False</td>\n",
       "      <td>False</td>\n",
       "    </tr>\n",
       "    <tr>\n",
       "      <th>1</th>\n",
       "      <td>2</td>\n",
       "      <td>15647311</td>\n",
       "      <td>Hill</td>\n",
       "      <td>608</td>\n",
       "      <td>41</td>\n",
       "      <td>1.0</td>\n",
       "      <td>83807.86</td>\n",
       "      <td>1</td>\n",
       "      <td>0</td>\n",
       "      <td>1</td>\n",
       "      <td>112542.58</td>\n",
       "      <td>0</td>\n",
       "      <td>False</td>\n",
       "      <td>True</td>\n",
       "      <td>False</td>\n",
       "    </tr>\n",
       "    <tr>\n",
       "      <th>2</th>\n",
       "      <td>3</td>\n",
       "      <td>15619304</td>\n",
       "      <td>Onio</td>\n",
       "      <td>502</td>\n",
       "      <td>42</td>\n",
       "      <td>8.0</td>\n",
       "      <td>159660.80</td>\n",
       "      <td>3</td>\n",
       "      <td>1</td>\n",
       "      <td>0</td>\n",
       "      <td>113931.57</td>\n",
       "      <td>1</td>\n",
       "      <td>False</td>\n",
       "      <td>False</td>\n",
       "      <td>False</td>\n",
       "    </tr>\n",
       "    <tr>\n",
       "      <th>3</th>\n",
       "      <td>4</td>\n",
       "      <td>15701354</td>\n",
       "      <td>Boni</td>\n",
       "      <td>699</td>\n",
       "      <td>39</td>\n",
       "      <td>1.0</td>\n",
       "      <td>0.00</td>\n",
       "      <td>2</td>\n",
       "      <td>0</td>\n",
       "      <td>0</td>\n",
       "      <td>93826.63</td>\n",
       "      <td>0</td>\n",
       "      <td>False</td>\n",
       "      <td>False</td>\n",
       "      <td>False</td>\n",
       "    </tr>\n",
       "    <tr>\n",
       "      <th>4</th>\n",
       "      <td>5</td>\n",
       "      <td>15737888</td>\n",
       "      <td>Mitchell</td>\n",
       "      <td>850</td>\n",
       "      <td>43</td>\n",
       "      <td>2.0</td>\n",
       "      <td>125510.82</td>\n",
       "      <td>1</td>\n",
       "      <td>1</td>\n",
       "      <td>1</td>\n",
       "      <td>79084.10</td>\n",
       "      <td>0</td>\n",
       "      <td>False</td>\n",
       "      <td>True</td>\n",
       "      <td>False</td>\n",
       "    </tr>\n",
       "    <tr>\n",
       "      <th>5</th>\n",
       "      <td>6</td>\n",
       "      <td>15574012</td>\n",
       "      <td>Chu</td>\n",
       "      <td>645</td>\n",
       "      <td>44</td>\n",
       "      <td>8.0</td>\n",
       "      <td>113755.78</td>\n",
       "      <td>2</td>\n",
       "      <td>1</td>\n",
       "      <td>0</td>\n",
       "      <td>149756.71</td>\n",
       "      <td>1</td>\n",
       "      <td>False</td>\n",
       "      <td>True</td>\n",
       "      <td>True</td>\n",
       "    </tr>\n",
       "    <tr>\n",
       "      <th>6</th>\n",
       "      <td>7</td>\n",
       "      <td>15592531</td>\n",
       "      <td>Bartlett</td>\n",
       "      <td>822</td>\n",
       "      <td>50</td>\n",
       "      <td>7.0</td>\n",
       "      <td>0.00</td>\n",
       "      <td>2</td>\n",
       "      <td>1</td>\n",
       "      <td>1</td>\n",
       "      <td>10062.80</td>\n",
       "      <td>0</td>\n",
       "      <td>False</td>\n",
       "      <td>False</td>\n",
       "      <td>True</td>\n",
       "    </tr>\n",
       "    <tr>\n",
       "      <th>7</th>\n",
       "      <td>8</td>\n",
       "      <td>15656148</td>\n",
       "      <td>Obinna</td>\n",
       "      <td>376</td>\n",
       "      <td>29</td>\n",
       "      <td>4.0</td>\n",
       "      <td>115046.74</td>\n",
       "      <td>4</td>\n",
       "      <td>1</td>\n",
       "      <td>0</td>\n",
       "      <td>119346.88</td>\n",
       "      <td>1</td>\n",
       "      <td>True</td>\n",
       "      <td>False</td>\n",
       "      <td>False</td>\n",
       "    </tr>\n",
       "    <tr>\n",
       "      <th>8</th>\n",
       "      <td>9</td>\n",
       "      <td>15792365</td>\n",
       "      <td>He</td>\n",
       "      <td>501</td>\n",
       "      <td>44</td>\n",
       "      <td>4.0</td>\n",
       "      <td>142051.07</td>\n",
       "      <td>2</td>\n",
       "      <td>0</td>\n",
       "      <td>1</td>\n",
       "      <td>74940.50</td>\n",
       "      <td>0</td>\n",
       "      <td>False</td>\n",
       "      <td>False</td>\n",
       "      <td>True</td>\n",
       "    </tr>\n",
       "    <tr>\n",
       "      <th>9</th>\n",
       "      <td>10</td>\n",
       "      <td>15592389</td>\n",
       "      <td>H?</td>\n",
       "      <td>684</td>\n",
       "      <td>27</td>\n",
       "      <td>2.0</td>\n",
       "      <td>134603.88</td>\n",
       "      <td>1</td>\n",
       "      <td>1</td>\n",
       "      <td>1</td>\n",
       "      <td>71725.73</td>\n",
       "      <td>0</td>\n",
       "      <td>False</td>\n",
       "      <td>False</td>\n",
       "      <td>True</td>\n",
       "    </tr>\n",
       "  </tbody>\n",
       "</table>\n",
       "</div>"
      ],
      "text/plain": [
       "   RowNumber  CustomerId   Surname  CreditScore  Age  Tenure    Balance  \\\n",
       "0          1    15634602  Hargrave          619   42     2.0       0.00   \n",
       "1          2    15647311      Hill          608   41     1.0   83807.86   \n",
       "2          3    15619304      Onio          502   42     8.0  159660.80   \n",
       "3          4    15701354      Boni          699   39     1.0       0.00   \n",
       "4          5    15737888  Mitchell          850   43     2.0  125510.82   \n",
       "5          6    15574012       Chu          645   44     8.0  113755.78   \n",
       "6          7    15592531  Bartlett          822   50     7.0       0.00   \n",
       "7          8    15656148    Obinna          376   29     4.0  115046.74   \n",
       "8          9    15792365        He          501   44     4.0  142051.07   \n",
       "9         10    15592389        H?          684   27     2.0  134603.88   \n",
       "\n",
       "   NumOfProducts  HasCrCard  IsActiveMember  EstimatedSalary  Exited  \\\n",
       "0              1          1               1        101348.88       1   \n",
       "1              1          0               1        112542.58       0   \n",
       "2              3          1               0        113931.57       1   \n",
       "3              2          0               0         93826.63       0   \n",
       "4              1          1               1         79084.10       0   \n",
       "5              2          1               0        149756.71       1   \n",
       "6              2          1               1         10062.80       0   \n",
       "7              4          1               0        119346.88       1   \n",
       "8              2          0               1         74940.50       0   \n",
       "9              1          1               1         71725.73       0   \n",
       "\n",
       "   Geography_Germany  Geography_Spain  Gender_Male  \n",
       "0              False            False        False  \n",
       "1              False             True        False  \n",
       "2              False            False        False  \n",
       "3              False            False        False  \n",
       "4              False             True        False  \n",
       "5              False             True         True  \n",
       "6              False            False         True  \n",
       "7               True            False        False  \n",
       "8              False            False         True  \n",
       "9              False            False         True  "
      ]
     },
     "metadata": {},
     "output_type": "display_data"
    }
   ],
   "source": [
    "#CREAR COLUMNAS DUMMIES PARA LAS COLUMNAS CATEGORICAS.\n",
    "dummies = pd.get_dummies(data, columns=['Geography', 'Gender'], drop_first= True)\n",
    "print(dummies.columns)\n",
    "display(dummies.head(10))"
   ]
  },
  {
   "cell_type": "code",
   "execution_count": 6,
   "metadata": {},
   "outputs": [
    {
     "name": "stdout",
     "output_type": "stream",
     "text": [
      "Nuestro conjunto de caracteristicas para entrenamiento tiene un cantidad de valores:  (6000, 12)\n",
      "Nuestro conjunto de objetivo para entrenamiento tiene un cantidad de valores:  (6000,)\n",
      "\n",
      "Nuestro conjunto de caracteristicas para validacion tiene un cantidad de valores:  (2000, 12)\n",
      "Nuestro conjunto de objetivo para validacion tiene un cantidad de valores:  (2000,)\n",
      "\n",
      "Nuestro conjunto de caracteristicas para prueba tiene un cantidad de valores:  (2000, 12)\n",
      "Nuestro conjunto de objetivo para prueba tiene un cantidad de valores:  (2000,)\n"
     ]
    },
    {
     "data": {
      "text/html": [
       "<div>\n",
       "<style scoped>\n",
       "    .dataframe tbody tr th:only-of-type {\n",
       "        vertical-align: middle;\n",
       "    }\n",
       "\n",
       "    .dataframe tbody tr th {\n",
       "        vertical-align: top;\n",
       "    }\n",
       "\n",
       "    .dataframe thead th {\n",
       "        text-align: right;\n",
       "    }\n",
       "</style>\n",
       "<table border=\"1\" class=\"dataframe\">\n",
       "  <thead>\n",
       "    <tr style=\"text-align: right;\">\n",
       "      <th></th>\n",
       "      <th>CustomerId</th>\n",
       "      <th>CreditScore</th>\n",
       "      <th>Age</th>\n",
       "      <th>Tenure</th>\n",
       "      <th>Balance</th>\n",
       "      <th>NumOfProducts</th>\n",
       "      <th>HasCrCard</th>\n",
       "      <th>IsActiveMember</th>\n",
       "      <th>EstimatedSalary</th>\n",
       "      <th>Geography_Germany</th>\n",
       "      <th>Geography_Spain</th>\n",
       "      <th>Gender_Male</th>\n",
       "    </tr>\n",
       "  </thead>\n",
       "  <tbody>\n",
       "    <tr>\n",
       "      <th>7479</th>\n",
       "      <td>15671987</td>\n",
       "      <td>567</td>\n",
       "      <td>35</td>\n",
       "      <td>8.0</td>\n",
       "      <td>153137.74</td>\n",
       "      <td>1</td>\n",
       "      <td>1</td>\n",
       "      <td>0</td>\n",
       "      <td>88659.07</td>\n",
       "      <td>False</td>\n",
       "      <td>True</td>\n",
       "      <td>True</td>\n",
       "    </tr>\n",
       "    <tr>\n",
       "      <th>3411</th>\n",
       "      <td>15815628</td>\n",
       "      <td>711</td>\n",
       "      <td>37</td>\n",
       "      <td>8.0</td>\n",
       "      <td>113899.92</td>\n",
       "      <td>1</td>\n",
       "      <td>0</td>\n",
       "      <td>0</td>\n",
       "      <td>80215.20</td>\n",
       "      <td>False</td>\n",
       "      <td>False</td>\n",
       "      <td>False</td>\n",
       "    </tr>\n",
       "    <tr>\n",
       "      <th>6027</th>\n",
       "      <td>15799494</td>\n",
       "      <td>850</td>\n",
       "      <td>44</td>\n",
       "      <td>3.0</td>\n",
       "      <td>140393.65</td>\n",
       "      <td>2</td>\n",
       "      <td>0</td>\n",
       "      <td>1</td>\n",
       "      <td>186285.52</td>\n",
       "      <td>True</td>\n",
       "      <td>False</td>\n",
       "      <td>True</td>\n",
       "    </tr>\n",
       "    <tr>\n",
       "      <th>1247</th>\n",
       "      <td>15711288</td>\n",
       "      <td>512</td>\n",
       "      <td>24</td>\n",
       "      <td>6.0</td>\n",
       "      <td>0.00</td>\n",
       "      <td>2</td>\n",
       "      <td>1</td>\n",
       "      <td>0</td>\n",
       "      <td>37654.31</td>\n",
       "      <td>False</td>\n",
       "      <td>False</td>\n",
       "      <td>True</td>\n",
       "    </tr>\n",
       "    <tr>\n",
       "      <th>3716</th>\n",
       "      <td>15699492</td>\n",
       "      <td>665</td>\n",
       "      <td>27</td>\n",
       "      <td>2.0</td>\n",
       "      <td>147435.96</td>\n",
       "      <td>1</td>\n",
       "      <td>0</td>\n",
       "      <td>0</td>\n",
       "      <td>187508.06</td>\n",
       "      <td>True</td>\n",
       "      <td>False</td>\n",
       "      <td>False</td>\n",
       "    </tr>\n",
       "  </tbody>\n",
       "</table>\n",
       "</div>"
      ],
      "text/plain": [
       "      CustomerId  CreditScore  Age  Tenure    Balance  NumOfProducts  \\\n",
       "7479    15671987          567   35     8.0  153137.74              1   \n",
       "3411    15815628          711   37     8.0  113899.92              1   \n",
       "6027    15799494          850   44     3.0  140393.65              2   \n",
       "1247    15711288          512   24     6.0       0.00              2   \n",
       "3716    15699492          665   27     2.0  147435.96              1   \n",
       "\n",
       "      HasCrCard  IsActiveMember  EstimatedSalary  Geography_Germany  \\\n",
       "7479          1               0         88659.07              False   \n",
       "3411          0               0         80215.20              False   \n",
       "6027          0               1        186285.52               True   \n",
       "1247          1               0         37654.31              False   \n",
       "3716          0               0        187508.06               True   \n",
       "\n",
       "      Geography_Spain  Gender_Male  \n",
       "7479             True         True  \n",
       "3411            False        False  \n",
       "6027            False         True  \n",
       "1247            False         True  \n",
       "3716            False        False  "
      ]
     },
     "metadata": {},
     "output_type": "display_data"
    }
   ],
   "source": [
    "features = dummies.drop(['Exited','Surname','RowNumber'],axis= 1)\n",
    "target = dummies['Exited']\n",
    "features_train , features_valid_test , target_train , target_valid_test = train_test_split(features, target, test_size =0.4 , random_state = 12345)\n",
    "features_valid , features_test , target_valid , target_test = train_test_split(features_valid_test, target_valid_test, test_size =0.5 , random_state = 12345)\n",
    "\n",
    "print('Nuestro conjunto de caracteristicas para entrenamiento tiene un cantidad de valores: ',features_train.shape)\n",
    "print('Nuestro conjunto de objetivo para entrenamiento tiene un cantidad de valores: ',target_train.shape)\n",
    "print('\\nNuestro conjunto de caracteristicas para validacion tiene un cantidad de valores: ',features_valid.shape)\n",
    "print('Nuestro conjunto de objetivo para validacion tiene un cantidad de valores: ',target_valid.shape)\n",
    "print('\\nNuestro conjunto de caracteristicas para prueba tiene un cantidad de valores: ',features_test.shape)\n",
    "print('Nuestro conjunto de objetivo para prueba tiene un cantidad de valores: ',target_test.shape)\n",
    "\n",
    "display(features_train.head())"
   ]
  },
  {
   "cell_type": "code",
   "execution_count": 7,
   "metadata": {},
   "outputs": [
    {
     "data": {
      "text/html": [
       "<div>\n",
       "<style scoped>\n",
       "    .dataframe tbody tr th:only-of-type {\n",
       "        vertical-align: middle;\n",
       "    }\n",
       "\n",
       "    .dataframe tbody tr th {\n",
       "        vertical-align: top;\n",
       "    }\n",
       "\n",
       "    .dataframe thead th {\n",
       "        text-align: right;\n",
       "    }\n",
       "</style>\n",
       "<table border=\"1\" class=\"dataframe\">\n",
       "  <thead>\n",
       "    <tr style=\"text-align: right;\">\n",
       "      <th></th>\n",
       "      <th>CustomerId</th>\n",
       "      <th>CreditScore</th>\n",
       "      <th>Age</th>\n",
       "      <th>Tenure</th>\n",
       "      <th>Balance</th>\n",
       "      <th>NumOfProducts</th>\n",
       "      <th>HasCrCard</th>\n",
       "      <th>IsActiveMember</th>\n",
       "      <th>EstimatedSalary</th>\n",
       "      <th>Geography_Germany</th>\n",
       "      <th>Geography_Spain</th>\n",
       "      <th>Gender_Male</th>\n",
       "    </tr>\n",
       "  </thead>\n",
       "  <tbody>\n",
       "    <tr>\n",
       "      <th>7479</th>\n",
       "      <td>-0.268372</td>\n",
       "      <td>-0.886751</td>\n",
       "      <td>-0.373192</td>\n",
       "      <td>1.082277</td>\n",
       "      <td>1.232271</td>\n",
       "      <td>-0.891560</td>\n",
       "      <td>0.642466</td>\n",
       "      <td>-1.055187</td>\n",
       "      <td>-0.187705</td>\n",
       "      <td>False</td>\n",
       "      <td>True</td>\n",
       "      <td>True</td>\n",
       "    </tr>\n",
       "    <tr>\n",
       "      <th>3411</th>\n",
       "      <td>1.725540</td>\n",
       "      <td>0.608663</td>\n",
       "      <td>-0.183385</td>\n",
       "      <td>1.082277</td>\n",
       "      <td>0.600563</td>\n",
       "      <td>-0.891560</td>\n",
       "      <td>-1.556504</td>\n",
       "      <td>-1.055187</td>\n",
       "      <td>-0.333945</td>\n",
       "      <td>False</td>\n",
       "      <td>False</td>\n",
       "      <td>False</td>\n",
       "    </tr>\n",
       "    <tr>\n",
       "      <th>6027</th>\n",
       "      <td>1.501580</td>\n",
       "      <td>2.052152</td>\n",
       "      <td>0.480939</td>\n",
       "      <td>-0.737696</td>\n",
       "      <td>1.027098</td>\n",
       "      <td>0.830152</td>\n",
       "      <td>-1.556504</td>\n",
       "      <td>0.947699</td>\n",
       "      <td>1.503095</td>\n",
       "      <td>True</td>\n",
       "      <td>False</td>\n",
       "      <td>True</td>\n",
       "    </tr>\n",
       "    <tr>\n",
       "      <th>1247</th>\n",
       "      <td>0.277174</td>\n",
       "      <td>-1.457915</td>\n",
       "      <td>-1.417129</td>\n",
       "      <td>0.354288</td>\n",
       "      <td>-1.233163</td>\n",
       "      <td>0.830152</td>\n",
       "      <td>0.642466</td>\n",
       "      <td>-1.055187</td>\n",
       "      <td>-1.071061</td>\n",
       "      <td>False</td>\n",
       "      <td>False</td>\n",
       "      <td>True</td>\n",
       "    </tr>\n",
       "    <tr>\n",
       "      <th>3716</th>\n",
       "      <td>0.113431</td>\n",
       "      <td>0.130961</td>\n",
       "      <td>-1.132419</td>\n",
       "      <td>-1.101690</td>\n",
       "      <td>1.140475</td>\n",
       "      <td>-0.891560</td>\n",
       "      <td>-1.556504</td>\n",
       "      <td>-1.055187</td>\n",
       "      <td>1.524268</td>\n",
       "      <td>True</td>\n",
       "      <td>False</td>\n",
       "      <td>False</td>\n",
       "    </tr>\n",
       "  </tbody>\n",
       "</table>\n",
       "</div>"
      ],
      "text/plain": [
       "      CustomerId  CreditScore       Age    Tenure   Balance  NumOfProducts  \\\n",
       "7479   -0.268372    -0.886751 -0.373192  1.082277  1.232271      -0.891560   \n",
       "3411    1.725540     0.608663 -0.183385  1.082277  0.600563      -0.891560   \n",
       "6027    1.501580     2.052152  0.480939 -0.737696  1.027098       0.830152   \n",
       "1247    0.277174    -1.457915 -1.417129  0.354288 -1.233163       0.830152   \n",
       "3716    0.113431     0.130961 -1.132419 -1.101690  1.140475      -0.891560   \n",
       "\n",
       "      HasCrCard  IsActiveMember  EstimatedSalary  Geography_Germany  \\\n",
       "7479   0.642466       -1.055187        -0.187705              False   \n",
       "3411  -1.556504       -1.055187        -0.333945              False   \n",
       "6027  -1.556504        0.947699         1.503095               True   \n",
       "1247   0.642466       -1.055187        -1.071061              False   \n",
       "3716  -1.556504       -1.055187         1.524268               True   \n",
       "\n",
       "      Geography_Spain  Gender_Male  \n",
       "7479             True         True  \n",
       "3411            False        False  \n",
       "6027            False         True  \n",
       "1247            False         True  \n",
       "3716            False        False  "
      ]
     },
     "metadata": {},
     "output_type": "display_data"
    }
   ],
   "source": [
    "numerics_dummies = ['CustomerId','CreditScore', 'Age', 'Tenure',\n",
    "       'Balance', 'NumOfProducts', 'HasCrCard', 'IsActiveMember',\n",
    "       'EstimatedSalary']\n",
    "scaler = StandardScaler()\n",
    "scaler.fit(features_train[numerics_dummies])\n",
    "\n",
    "features_train[numerics_dummies] = scaler.transform(features_train[numerics_dummies])\n",
    "features_valid[numerics_dummies] = scaler.transform(features_valid[numerics_dummies])\n",
    "features_test[numerics_dummies] = scaler.transform(features_test[numerics_dummies])\n",
    "\n",
    "display(features_train.head())"
   ]
  },
  {
   "cell_type": "markdown",
   "metadata": {},
   "source": [
    "**ARBOL DE DECISION**\n",
    "---\n",
    "\n",
    "Haremos variaciones en la profundidad del modelo para buscar el mejor resultado dentro de las metricas a analizar, primero revisaremos la Matriz de Confusion y a su vez la Exactitud, la Precision, la Sensibilidad y el F1_SCORE. "
   ]
  },
  {
   "cell_type": "code",
   "execution_count": 8,
   "metadata": {},
   "outputs": [],
   "source": [
    "#Declarar variables de Arbol de Decision\n",
    "precision_tree_best_valid = 0\n",
    "recall_tree_best_valid = 0\n",
    "f1_tree_best_valid = 0\n",
    "accuracy_tree_best_valid = 0\n",
    "\n",
    "accuracy_best_model_tree = 0\n",
    "f1_best_model_tree = 0\n",
    "recall_best_model_tree = 0\n",
    "precision_best_model_tree = 0"
   ]
  },
  {
   "cell_type": "code",
   "execution_count": 9,
   "metadata": {},
   "outputs": [
    {
     "name": "stdout",
     "output_type": "stream",
     "text": [
      "[[1365  217]\n",
      " [ 212  206]]\n"
     ]
    }
   ],
   "source": [
    "#ARBOL DE DECISION.\n",
    "model_tree = DecisionTreeClassifier(random_state= 12345)\n",
    "model_tree.fit(features_train , target_train)\n",
    "\n",
    "predictions_train_tree = model_tree.predict(features_train)\n",
    "predictions_valid_tree = model_tree.predict(features_valid)\n",
    "\n",
    "print(confusion_matrix(target_valid , predictions_valid_tree))"
   ]
  },
  {
   "cell_type": "markdown",
   "metadata": {},
   "source": [
    "Para el modelo arbol de decision por defecto, tenemos una <u>MATRIZ DE CONFUSION</u> de:\n",
    "\n",
    "1365 VN || 217 FP\n",
    "\n",
    "212 FN  || 206 VP  \n",
    "\n",
    "Tenemos 1571 valores con una correcta prediccion, y 229 valores predichos erroneamente. \n",
    "En proporción tenemos una buena cantidad de correctas predicciones.\n",
    "Vamos a calcular algunas metricas para revisar con cual profundidad hay mejores resultados.\n",
    "\n",
    "Tenemos que los Verdaderos Negativos son mejor predichos que los Verdaderos Positivos, esto puede ser porque hay una clasificacion desbalanceada. "
   ]
  },
  {
   "cell_type": "code",
   "execution_count": 10,
   "metadata": {},
   "outputs": [
    {
     "name": "stderr",
     "output_type": "stream",
     "text": [
      "C:\\Users\\jimen\\AppData\\Local\\Packages\\PythonSoftwareFoundation.Python.3.12_qbz5n2kfra8p0\\LocalCache\\local-packages\\Python312\\site-packages\\sklearn\\metrics\\_classification.py:1517: UndefinedMetricWarning: Precision is ill-defined and being set to 0.0 due to no predicted samples. Use `zero_division` parameter to control this behavior.\n",
      "  _warn_prf(average, modifier, f\"{metric.capitalize()} is\", len(result))\n",
      "C:\\Users\\jimen\\AppData\\Local\\Packages\\PythonSoftwareFoundation.Python.3.12_qbz5n2kfra8p0\\LocalCache\\local-packages\\Python312\\site-packages\\sklearn\\metrics\\_classification.py:1517: UndefinedMetricWarning: Precision is ill-defined and being set to 0.0 due to no predicted samples. Use `zero_division` parameter to control this behavior.\n",
      "  _warn_prf(average, modifier, f\"{metric.capitalize()} is\", len(result))\n"
     ]
    }
   ],
   "source": [
    "#Revision del mejor modelo de arbol de decision \n",
    "for depth in range(1,10):\n",
    "    \n",
    "    model_tree = DecisionTreeClassifier(random_state= 12345 , max_depth= depth)\n",
    "    model_tree.fit(features_train , target_train)\n",
    "\n",
    "    predictions_train_tree = model_tree.predict(features_train)\n",
    "    predictions_valid_tree = model_tree.predict(features_valid)\n",
    "\n",
    "    accuracy_tree_train = accuracy_score(target_train , predictions_train_tree)\n",
    "    accuracy_tree_valid = accuracy_score(target_valid, predictions_valid_tree)\n",
    "\n",
    "    if(accuracy_tree_valid > accuracy_tree_best_valid) :\n",
    "        accuracy_tree_best_valid = accuracy_tree_valid\n",
    "        accuracy_tree_best_train = accuracy_tree_train\n",
    "        accuracy_max_depth = depth\n",
    "        accuracy_best_model_tree = model_tree\n",
    "\n",
    "    precision_tree_train = precision_score(target_train , predictions_train_tree)\n",
    "    precision_tree_valid = precision_score(target_valid, predictions_valid_tree)\n",
    "\n",
    "    if(precision_tree_valid > precision_tree_best_valid) :\n",
    "        precision_tree_best_valid = precision_tree_valid\n",
    "        precision_tree_best_train = precision_tree_train\n",
    "        precision_max_depth = depth\n",
    "        precision_best_model_tree = model_tree\n",
    "\n",
    "    recall_tree_train = recall_score(target_train , predictions_train_tree)\n",
    "    recall_tree_valid = recall_score(target_valid, predictions_valid_tree)\n",
    "\n",
    "    if(recall_tree_valid > recall_tree_best_valid) :\n",
    "        recall_tree_best_valid = recall_tree_valid\n",
    "        recall_tree_best_train = recall_tree_train\n",
    "        recall_max_depth = depth\n",
    "        recall_best_model_tree = model_tree\n",
    "\n",
    "    f1_tree_train = f1_score(target_train , predictions_train_tree)\n",
    "    f1_tree_valid = f1_score(target_valid , predictions_valid_tree)\n",
    "\n",
    "    if(f1_tree_valid > f1_tree_best_valid):\n",
    "        f1_tree_best_valid = f1_tree_valid\n",
    "        f1_tree_best_train = f1_tree_train\n",
    "        f1_max_depth = depth\n",
    "        f1_best_model_tree = model_tree\n",
    "        f1_precision = precision_tree_valid\n",
    "        f1_recall = recall_tree_valid"
   ]
  },
  {
   "cell_type": "code",
   "execution_count": 11,
   "metadata": {},
   "outputs": [
    {
     "name": "stdout",
     "output_type": "stream",
     "text": [
      "El modelo del arbol de decision con la mejor EXACTITUD \n",
      "en el conjuto de entrenamiento con 0.8723333333333333 \n",
      "y en el conjunto de VALIDACION con 0.8575 \n",
      "es --> DecisionTreeClassifier(max_depth=6, random_state=12345)\n",
      "\n",
      "El modelo del arbol de decision con la mejor PRECISION \n",
      "en el conjuto de entrenamiento con 0.8586387434554974 \n",
      "y en el conjunto de VALIDACION con 0.8263888888888888 \n",
      "es --> DecisionTreeClassifier(max_depth=3, random_state=12345)\n",
      "\n",
      "El modelo del arbol de decision con la mejor SENSIBILIDAD (recall) \n",
      "en el conjuto de entrenamiento con 0.6011705685618729 \n",
      "y en el conjunto de VALIDACION con 0.4880382775119617 \n",
      "es --> DecisionTreeClassifier(max_depth=9, random_state=12345)\n",
      "\n",
      "El modelo del arbol de decision con el mejor F1_SCORE : \n",
      "en el conjuto de entrenamiento con 0.7101234567901235 \n",
      "y en el conjunto de VALIDACION con 0.5730337078651685 \n",
      "es --> DecisionTreeClassifier(max_depth=9, random_state=12345), \n",
      "con 0.6938775510204082 de precision y 0.4880382775119617 de recall.\n"
     ]
    }
   ],
   "source": [
    "#Imprimir las metricas del arbol de decision.\n",
    "\n",
    "print(f'El modelo del arbol de decision con la mejor EXACTITUD \\nen el conjuto de entrenamiento con {accuracy_tree_best_train}',\n",
    "      f'\\ny en el conjunto de VALIDACION con {accuracy_tree_best_valid} \\nes --> {accuracy_best_model_tree}')\n",
    "\n",
    "print(f'\\nEl modelo del arbol de decision con la mejor PRECISION \\nen el conjuto de entrenamiento con {precision_tree_best_train}',\n",
    "      f'\\ny en el conjunto de VALIDACION con {precision_tree_best_valid} \\nes --> {precision_best_model_tree}')\n",
    "\n",
    "print(f'\\nEl modelo del arbol de decision con la mejor SENSIBILIDAD (recall) \\nen el conjuto de entrenamiento con {recall_tree_best_train}',\n",
    "      f'\\ny en el conjunto de VALIDACION con {recall_tree_best_valid} \\nes --> {recall_best_model_tree}')   \n",
    "\n",
    "print(f'\\nEl modelo del arbol de decision con el mejor F1_SCORE : \\nen el conjuto de entrenamiento con {f1_tree_best_train}',\n",
    "      f'\\ny en el conjunto de VALIDACION con {f1_tree_best_valid} \\nes --> {f1_best_model_tree}, \\ncon {f1_precision} de precision y {f1_recall} de recall.')   "
   ]
  },
  {
   "cell_type": "markdown",
   "metadata": {},
   "source": [
    "En la PRECISION tenemos un valor de 0.82, con un maximo de profundidad de 3. \n",
    "\n",
    "Esta metrica representa la relacion entre las predicciones VP y todas las predicciones positivas (VP + FP) que haya realizado el modelo. Por lo que, mientras mas FP se hayan predicho, menor será la precision.\n",
    "Podemos ver que tenemos mejor precision que sensibilidad, esto es porque concidera mas la parte POSITIVA que la NEGATIVA. Sin embargo, necesitamos mejorar la SENSIBILIDAD ya que el modelo tiene que predecir SI el cliente se va del banco para poder prevenirlo, un VP o FN representan esta situacion.  "
   ]
  },
  {
   "cell_type": "markdown",
   "metadata": {},
   "source": [
    "En la SENSIBILIDAD tenemos un valor muy bajo, 0.488, con un maximo de profundidad de 9. \n",
    "\n",
    "Esto indica que tenemos una porcion de VP frente a las VP + FN muy bajo. \n",
    "Ya que de acuerdo con la matriz de confusion, VP + FN = 206 + 212 = 418, tenemos que predijo correctamente aproximadamente la mitad como VP y la otra mitad como FN. \n",
    "Por esto obtuvimos un recall del modelo de casi el 50%, pero si lo comparamos con el recall de un modelo constante obtuvimos un 0.49, es decir, el modelo no predice mejor que un modelo constante. "
   ]
  },
  {
   "cell_type": "markdown",
   "metadata": {},
   "source": [
    "En el promedio de ambos, F1_SCORE tenemos un valor de 0.57, con un maximo de profundidad de 9. \n",
    "\n",
    "+ Con una precision de 0.69\n",
    "\n",
    "+ Con un recall de 0.48\n",
    "\n"
   ]
  },
  {
   "cell_type": "code",
   "execution_count": 12,
   "metadata": {},
   "outputs": [
    {
     "name": "stdout",
     "output_type": "stream",
     "text": [
      "0    0.7885\n",
      "1    0.2115\n",
      "Name: proportion, dtype: float64\n",
      "La EXACTITUD del modelo de arbol de decision con un modelo constante es: 0.7855\n",
      "La PRECISION del modelo de arbol de decision con un modelo constante es: 0.48699763593380613\n",
      "La SENSIBILIDAD del modelo de arbol de decision con un modelo constante es: 0.49282296650717705\n",
      "El F1_SCORE del modelo de arbol de decision con un modelo constante es: 0.48989298454221164\n"
     ]
    },
    {
     "data": {
      "image/png": "[encoded data removed]",
      "text/plain": [
       "<Figure size 640x480 with 1 Axes>"
      ]
     },
     "metadata": {},
     "output_type": "display_data"
    }
   ],
   "source": [
    "#PRUEBA DE CORDURA\n",
    "model_tree = DecisionTreeClassifier(random_state= 12345)\n",
    "model_tree.fit(features_train,target_train)\n",
    "predictions_valid_tree_constant = pd.Series(model_tree.predict(features_valid)) \n",
    "\n",
    "class_frequency = predictions_valid_tree_constant.value_counts(normalize= True)\n",
    "print(class_frequency)\n",
    "class_frequency.plot(kind= 'bar')\n",
    "\n",
    "accuracy_score(target_valid,predictions_valid_tree_constant)\n",
    "precision_score(target_valid,predictions_valid_tree_constant)\n",
    "recall_score(target_valid,predictions_valid_tree_constant)\n",
    "f1_score(target_valid,predictions_valid_tree_constant)\n",
    "\n",
    "print('La EXACTITUD del modelo de arbol de decision con un modelo constante es:',accuracy_score(target_valid,predictions_valid_tree_constant))\n",
    "print('La PRECISION del modelo de arbol de decision con un modelo constante es:',precision_score(target_valid,predictions_valid_tree_constant))\n",
    "print('La SENSIBILIDAD del modelo de arbol de decision con un modelo constante es:',recall_score(target_valid,predictions_valid_tree_constant))\n",
    "print('El F1_SCORE del modelo de arbol de decision con un modelo constante es:',f1_score(target_valid,predictions_valid_tree_constant))"
   ]
  },
  {
   "cell_type": "code",
   "execution_count": 13,
   "metadata": {},
   "outputs": [],
   "source": [
    "#SOBREMUESTREO\n",
    "def up(features , target , repeat):\n",
    "\n",
    "    features_zeros = features[target == 0]\n",
    "    features_ones = features[target == 1]\n",
    "    target_zeros = target[target == 0]\n",
    "    target_ones = target[target == 1]\n",
    "\n",
    "    features_up = pd.concat([features_zeros] + [features_ones] * repeat)\n",
    "    target_up = pd.concat([target_zeros] + [target_ones] * repeat)\n",
    "\n",
    "    features_up , target_up = shuffle(features_up , target_up, random_state= 12345)\n",
    "\n",
    "    return features_up , target_up\n",
    "\n",
    "features_up , target_up = up(features_train, target_train, 10)"
   ]
  },
  {
   "cell_type": "code",
   "execution_count": 14,
   "metadata": {},
   "outputs": [
    {
     "name": "stdout",
     "output_type": "stream",
     "text": [
      "Nueva EXACTITUD con Sobremuestreo -->  0.766\n",
      "Nueva PRECISION con Sobremuestreo -->  0.46153846153846156\n",
      "Nueva SENSIBILIDAD con Sobremuestreo -->  0.7177033492822966\n",
      "Nuevo F1_SCORE con Sobremuestreo -->  0.5617977528089888\n"
     ]
    }
   ],
   "source": [
    "#SOBREMUESTREO\n",
    "model_tree = DecisionTreeClassifier(random_state= 12345 , max_depth= 6, class_weight= 'balanced')\n",
    "model_tree.fit(features_up , target_up)\n",
    "\n",
    "predictions_valid_tree = model_tree.predict(features_valid)\n",
    "\n",
    "accuracy_tree_v_up = accuracy_score(target_valid , predictions_valid_tree)\n",
    "precision_tree_v_up = precision_score(target_valid , predictions_valid_tree)\n",
    "recall_tree_v_up = recall_score(target_valid , predictions_valid_tree)\n",
    "f1_tree_v_up = f1_score(target_valid , predictions_valid_tree)\n",
    "\n",
    "print('Nueva EXACTITUD con Sobremuestreo --> ' , accuracy_tree_v_up) \n",
    "print('Nueva PRECISION con Sobremuestreo --> ' , precision_tree_v_up) \n",
    "print('Nueva SENSIBILIDAD con Sobremuestreo --> ' , recall_tree_v_up )\n",
    "print('Nuevo F1_SCORE con Sobremuestreo --> ' , f1_tree_v_up)"
   ]
  },
  {
   "cell_type": "code",
   "execution_count": 15,
   "metadata": {},
   "outputs": [
    {
     "name": "stdout",
     "output_type": "stream",
     "text": [
      "(1676, 12) (1676,)\n"
     ]
    }
   ],
   "source": [
    "#SUBMUESTREO\n",
    "def down(features , target , fraction):\n",
    "\n",
    "    features_zeros = features[target == 0]\n",
    "    features_ones = features[target == 1]\n",
    "    target_zeros = target[target == 0]\n",
    "    target_ones = target[target == 1]\n",
    "\n",
    "    features_down = pd.concat([features_zeros.sample(frac = fraction , random_state= 12345)] + [features_ones])\n",
    "    target_down = pd.concat([target_zeros.sample(frac = fraction , random_state= 12345)] + [target_ones])\n",
    "\n",
    "    features_down , target_down = shuffle(features_down , target_down, random_state= 12345)\n",
    "\n",
    "    return features_down , target_down\n",
    "\n",
    "features_down , target_down = down(features_train, target_train, 0.1)\n",
    "\n",
    "print(features_down.shape , target_down.shape)"
   ]
  },
  {
   "cell_type": "code",
   "execution_count": 16,
   "metadata": {},
   "outputs": [
    {
     "name": "stdout",
     "output_type": "stream",
     "text": [
      "Nueva EXACTITUD con Submuestreo -->  0.717\n",
      "Nueva PRECISION con Submuestreo -->  0.3975069252077562\n",
      "Nueva SENSIBILIDAD con Submuestreo -->  0.6866028708133971\n",
      "Nuevo F1_SCORE con Submuestreo -->  0.5035087719298246\n"
     ]
    }
   ],
   "source": [
    "#SUBMUESTREO\n",
    "model_tree = DecisionTreeClassifier(random_state= 12345 , max_depth= 6, class_weight= 'balanced')\n",
    "model_tree.fit(features_down , target_down)\n",
    "\n",
    "predictions_valid_tree = model_tree.predict(features_valid)\n",
    "\n",
    "accuracy_tree_v_down = accuracy_score(target_valid , predictions_valid_tree)\n",
    "precision_tree_v_down = precision_score(target_valid , predictions_valid_tree)\n",
    "recall_tree_v_down = recall_score(target_valid , predictions_valid_tree)\n",
    "f1_tree_v_down = f1_score(target_valid , predictions_valid_tree)\n",
    "\n",
    "print('Nueva EXACTITUD con Submuestreo --> ' , accuracy_tree_v_down) \n",
    "print('Nueva PRECISION con Submuestreo --> ' , precision_tree_v_down) \n",
    "print('Nueva SENSIBILIDAD con Submuestreo --> ' , recall_tree_v_down )\n",
    "print('Nuevo F1_SCORE con Submuestreo --> ' , f1_tree_v_down)"
   ]
  },
  {
   "cell_type": "markdown",
   "metadata": {},
   "source": [
    "**RESUMEN PARA EL MODELO ARBOL DE DECISION**\n",
    "\n",
    "La mejor EXACTITUD con 0.8575 \n",
    "\n",
    "La mejor PRECISION con 0.8263888888888888 \n",
    "\n",
    "La mejor SENSIBILIDAD (recall) con 0.4880382775119617\n",
    "\n",
    "La mejor F1_SCORE con 0.5730337078651685 \n",
    "\n",
    "--\n",
    "\n",
    "<u>PRUEBA DE CORDURA </u>\n",
    "\n",
    "La EXACTITUD con un modelo constante es: 0.7855\n",
    "\n",
    "La PRECISION con un modelo constante es: 0.48699763593380613\n",
    "\n",
    "La SENSIBILIDAD con un modelo constante es: 0.49282296650717705\n",
    "\n",
    "El F1_SCORE con un modelo constante es: 0.48989298454221164\n",
    "\n",
    "--\n",
    "\n",
    "<u>SOBREMUESTREO</u>\n",
    "\n",
    "Nueva EXACTITUD con Sobremuestreo -->  0.766\n",
    "\n",
    "Nueva PRECISION con Sobremuestreo -->  0.46153846153846156\n",
    "\n",
    "Nueva SENSIBILIDAD con Sobremuestreo -->  0.7177033492822966\n",
    "\n",
    "Nuevo F1_SCORE con Sobremuestreo -->  0.5617977528089888\n",
    "\n",
    "--\n",
    "\n",
    "<u>SUBMUESTREO</u>\n",
    "\n",
    "Nueva EXACTITUD con Submuestreo -->  0.717\n",
    "\n",
    "Nueva PRECISION con Submuestreo -->  0.3975069252077562\n",
    "\n",
    "Nueva SENSIBILIDAD con Submuestreo -->  0.6866028708133971\n",
    "\n",
    "Nuevo F1_SCORE con Submuestreo -->  0.5035087719298246\n",
    "\n",
    "\n",
    "\n",
    "Hay un muy buen F1_SCORE usando un sobremuestreo en el conjunto de datos, no tenemos un 0.59, pero un 0.561 es un promedio aceptable. \n",
    "Revisemos la tasa de VP y FP para identificar si es un buen modelo o lo descartamos.\n"
   ]
  },
  {
   "cell_type": "code",
   "execution_count": 17,
   "metadata": {},
   "outputs": [
    {
     "name": "stdout",
     "output_type": "stream",
     "text": [
      "Acorde con el Modelo Arbol de Decision y un sobremuestreo, tenemos las siguientes probabilidades de que el resultado sea :\n",
      " Negativa(0) -- Positiva(1)\n",
      " [[0.97554011 0.02445989]\n",
      " [0.40882739 0.59117261]\n",
      " [0.37224397 0.62775603]\n",
      " ...\n",
      " [0.9803118  0.0196882 ]\n",
      " [1.         0.        ]\n",
      " [0.07914746 0.92085254]]\n",
      "Threshold| Precision| Recall| F1_SCORE\n",
      "0.00     | 0.205    | 0.976 | 0.339 \n",
      "\n",
      "Threshold| Precision| Recall| F1_SCORE\n",
      "0.10     | 0.243    | 0.950 | 0.388 \n",
      "\n",
      "Threshold| Precision| Recall| F1_SCORE\n",
      "0.20     | 0.274    | 0.919 | 0.423 \n",
      "\n",
      "Threshold| Precision| Recall| F1_SCORE\n",
      "0.30     | 0.352    | 0.813 | 0.492 \n",
      "\n",
      "Threshold| Precision| Recall| F1_SCORE\n",
      "0.40     | 0.406    | 0.756 | 0.528 \n",
      "\n",
      "Threshold| Precision| Recall| F1_SCORE\n",
      "0.50     | 0.462    | 0.718 | 0.562 \n",
      "\n",
      "Threshold| Precision| Recall| F1_SCORE\n",
      "0.60     | 0.529    | 0.593 | 0.559 \n",
      "\n",
      "Threshold| Precision| Recall| F1_SCORE\n",
      "0.70     | 0.721    | 0.488 | 0.582 \n",
      "\n",
      "Threshold| Precision| Recall| F1_SCORE\n",
      "0.80     | 0.779    | 0.447 | 0.568 \n",
      "\n",
      "Threshold| Precision| Recall| F1_SCORE\n",
      "0.90     | 0.860    | 0.368 | 0.516 \n",
      "\n"
     ]
    }
   ],
   "source": [
    "model_tree = DecisionTreeClassifier(random_state= 12345, max_depth= 6 , class_weight= 'balanced')\n",
    "model_tree.fit(features_up, target_up)\n",
    "\n",
    "probabilities_tree_valid = model_tree.predict_proba(features_valid)\n",
    "probabilities_one_tree_valid = probabilities_tree_valid[:,1]\n",
    "\n",
    "print('Acorde con el Modelo Arbol de Decision y un sobremuestreo, tenemos las siguientes probabilidades de que el resultado sea :\\n Negativa(0) -- Positiva(1)\\n'\n",
    "      ,probabilities_tree_valid)\n",
    "\n",
    "for threshold_tree in np.arange(0, 1 , 0.1):\n",
    "    \n",
    "    predicted_tree_valid = probabilities_one_tree_valid > threshold_tree\n",
    "    #print(predicted_tree_valid)\n",
    "    precision_tree_umbral = precision_score(target_valid , predicted_tree_valid)\n",
    "    recall_tree_umbral = recall_score(target_valid , predicted_tree_valid)\n",
    "    f1_tree_umbral = f1_score(target_valid , predicted_tree_valid)\n",
    "    print('Threshold| Precision| Recall| F1_SCORE')\n",
    "    print('{:.2f}     | {:.3f}    | {:.3f} | {:.3f}'.format(threshold_tree,precision_tree_umbral,recall_tree_umbral,f1_tree_umbral),'\\n')"
   ]
  },
  {
   "cell_type": "code",
   "execution_count": 18,
   "metadata": {},
   "outputs": [],
   "source": [
    "precision_pr_tree , recall_pr_tree , threshold_pr_tree = precision_recall_curve(\n",
    "    target_valid, probabilities_one_tree_valid\n",
    ")"
   ]
  },
  {
   "cell_type": "code",
   "execution_count": 19,
   "metadata": {},
   "outputs": [
    {
     "data": {
      "image/png": "[encoded data removed]",
      "text/plain": [
       "<Figure size 600x600 with 1 Axes>"
      ]
     },
     "metadata": {},
     "output_type": "display_data"
    }
   ],
   "source": [
    "plt.figure(figsize = (6,6))\n",
    "plt.step(recall_pr_tree, precision_pr_tree, where= 'post')\n",
    "plt.xlabel('Recall')\n",
    "plt.xlim([0.0 , 1.0])\n",
    "plt.ylabel('Precision')\n",
    "plt.ylim([0.0 , 1.05])\n",
    "plt.title('Precision - Recall Curve ARBOL DE DECISION')\n",
    "plt.show()"
   ]
  },
  {
   "cell_type": "code",
   "execution_count": 20,
   "metadata": {},
   "outputs": [
    {
     "data": {
      "text/plain": [
       "Text(0.5, 1.0, 'Curva ROC LOGISTIC REGRESSION')"
      ]
     },
     "execution_count": 20,
     "metadata": {},
     "output_type": "execute_result"
    },
    {
     "data": {
      "image/png": "[encoded data removed]",
      "text/plain": [
       "<Figure size 640x480 with 1 Axes>"
      ]
     },
     "metadata": {},
     "output_type": "display_data"
    }
   ],
   "source": [
    "fpr_tree , tpr_tree , th_tree = roc_curve(target_valid , probabilities_one_tree_valid)\n",
    "\n",
    "plt.figure()\n",
    "plt.plot(fpr_tree , tpr_tree)\n",
    "plt.plot([0 , 1] , [0 , 1], linestyle = '--')\n",
    "plt.xlim([0.0 , 1.0])\n",
    "plt.ylim([0.0 , 1.0])\n",
    "plt.xlabel('Tasa de Falsos Positivos LR')\n",
    "plt.ylabel('Tasa de Verdaderos Positivos LR')\n",
    "plt.title('Curva ROC LOGISTIC REGRESSION')"
   ]
  },
  {
   "cell_type": "code",
   "execution_count": 21,
   "metadata": {},
   "outputs": [
    {
     "name": "stdout",
     "output_type": "stream",
     "text": [
      "AUC-ROC -->  0.8086918321548038\n"
     ]
    }
   ],
   "source": [
    "auc_roc_tree = roc_auc_score(target_valid , probabilities_one_tree_valid)\n",
    "print('AUC-ROC --> ',auc_roc_tree)"
   ]
  },
  {
   "cell_type": "markdown",
   "metadata": {},
   "source": [
    "**CONCLUSION ARBOL DE DECISION**\n",
    "\n",
    "Con un AUC-ROC del 0.808 estamos muy cerca del 1, nuestro modelo es mejor que un modelo aleatorio. \n",
    "Usando un modelo de arbol de decision con una profundidad de 6 y un peso en las clases balanceada obtivimos un F1_SCORE DE 0.56\n",
    " DecisionTreeClassifier(random_state= 12345 , max_depth= 6 , class_weight= 'balanced')\n",
    "La curva se puede ver bastante alta y eso da muy buena señal para este modelo. "
   ]
  },
  {
   "cell_type": "markdown",
   "metadata": {},
   "source": [
    "**RANDOM FOREST CLASSIFIER**\n",
    "---\n",
    "Revisemos el comportamiento de RANDOM FOREST CLASSIFIER. \n",
    "Buscando el mejor F1_SCORE POSIBLE. \n",
    "\n"
   ]
  },
  {
   "cell_type": "code",
   "execution_count": 22,
   "metadata": {},
   "outputs": [],
   "source": [
    "#Declarar variables de Bosque Aleatorio.\n",
    "precision_forest_best_valid = 0\n",
    "recall_forest_best_valid = 0\n",
    "f1_forest_best_valid = 0\n",
    "accuracy_forest_best_valid = 0\n",
    "\n",
    "accuracy_best_model_forest = 0\n",
    "f1_best_model_forest = 0\n",
    "recall_best_model_forest = 0\n",
    "precision_best_model_forest = 0"
   ]
  },
  {
   "cell_type": "code",
   "execution_count": 23,
   "metadata": {},
   "outputs": [
    {
     "name": "stdout",
     "output_type": "stream",
     "text": [
      "[[1525   57]\n",
      " [ 228  190]]\n"
     ]
    }
   ],
   "source": [
    "#RANDOM FOREST MODEL. MATRIZ DE CONFUSION\n",
    "model_forest = RandomForestClassifier(random_state= 12345)\n",
    "model_forest.fit(features_train , target_train)\n",
    "\n",
    "predictions_train_forest = model_forest.predict(features_train)\n",
    "predictions_valid_forest = model_forest.predict(features_valid)\n",
    "\n",
    "print(confusion_matrix(target_valid , predictions_valid_forest))"
   ]
  },
  {
   "cell_type": "markdown",
   "metadata": {},
   "source": [
    "<u>Matriz de Confusion con el modelo Bosque Aleatorio. </u>\n",
    "\n",
    "VN 1525 || FP 57\n",
    "\n",
    "FN  228   || VP 190 \n",
    "\n",
    "Tenemos una buena cantidad de valores negativos, esto puede afectar la sensibilidad y la precision. Revisemos mas a detalle si podemos obtener un mejor valor. "
   ]
  },
  {
   "cell_type": "code",
   "execution_count": 24,
   "metadata": {},
   "outputs": [],
   "source": [
    "for estimator in range(1,10):\n",
    "\n",
    "    model_forest = RandomForestClassifier(random_state= 12345 , n_estimators=estimator)\n",
    "    model_forest.fit(features_train , target_train)\n",
    "\n",
    "    predictions_train_forest = model_forest.predict(features_train)\n",
    "    predictions_valid_forest = model_forest.predict(features_valid)\n",
    "\n",
    "    accuracy_forest_train = accuracy_score(target_train , predictions_train_tree)\n",
    "    accuracy_forest_valid = accuracy_score(target_valid, predictions_valid_tree)\n",
    "    if(accuracy_forest_valid > accuracy_forest_best_valid) :\n",
    "        accuracy_forest_best_valid = accuracy_forest_valid\n",
    "        accuracy_forest_best_train = accuracy_forest_train\n",
    "        accuracy_n_estimator = estimator\n",
    "        accuracy_best_model_forest = model_forest\n",
    "\n",
    "\n",
    "    precision_forest_train = precision_score(target_train , predictions_train_forest)\n",
    "    precision_forest_valid = precision_score(target_valid, predictions_valid_forest)\n",
    "    if(precision_forest_valid > precision_forest_best_valid) :\n",
    "        precision_forest_best_valid = precision_forest_valid\n",
    "        precision_forest_best_train = precision_forest_train\n",
    "        precision_n_estimator = estimator\n",
    "        precision_best_model_forest = model_forest\n",
    "\n",
    "    recall_forest_train = recall_score(target_train , predictions_train_forest)\n",
    "    recall_forest_valid = recall_score(target_valid, predictions_valid_forest)\n",
    "    if(recall_forest_valid > recall_forest_best_valid) :\n",
    "        recall_forest_best_valid = recall_forest_valid\n",
    "        recall_forest_best_train = recall_forest_train\n",
    "        recall_n_estimator = estimator\n",
    "        recall_best_model_forest = model_forest\n",
    "\n",
    "    f1_forest_train = recall_score(target_train , predictions_train_forest)\n",
    "    f1_forest_valid = recall_score(target_valid, predictions_valid_forest)\n",
    "    if(f1_forest_valid > f1_forest_best_valid) :\n",
    "        f1_forest_best_valid = f1_forest_valid\n",
    "        f1_forest_best_train = f1_forest_train\n",
    "        f1_n_estimator = estimator\n",
    "        f1_best_model_forest = model_forest\n",
    "        f1_precision_forest = precision_forest_valid\n",
    "        f1_recall_forest = recall_forest_valid"
   ]
  },
  {
   "cell_type": "code",
   "execution_count": 25,
   "metadata": {},
   "outputs": [
    {
     "name": "stdout",
     "output_type": "stream",
     "text": [
      "El modelo del arbol de decision con la mejor EXACTITUD \n",
      "en el conjuto de entrenamiento con 0.9021666666666667 \n",
      "y en el conjunto de VALIDACION con 0.717 \n",
      "es --> RandomForestClassifier(n_estimators=1, random_state=12345)\n",
      "\n",
      "El modelo del arbol de decision con la mejor PRECISION \n",
      "en el conjuto de entrenamiento con 0.9922854387656702 \n",
      "y en el conjunto de VALIDACION con 0.7372881355932204 \n",
      "es --> RandomForestClassifier(n_estimators=6, random_state=12345)\n",
      "\n",
      "El modelo del arbol de decision con la mejor SENSIBILIDAD (recall) \n",
      "en el conjuto de entrenamiento con 0.8252508361204013 \n",
      "y en el conjunto de VALIDACION con 0.4880382775119617 \n",
      "es --> RandomForestClassifier(n_estimators=1, random_state=12345)\n",
      "\n",
      "El modelo del arbol de decision con el mejor F1_SCORE \n",
      "en el conjuto de entrenamiento con 0.8252508361204013 \n",
      "y en el conjunto de VALIDACION con 0.4880382775119617 \n",
      "es --> RandomForestClassifier(n_estimators=1, random_state=12345) \n",
      "con 0.45434298440979953 de precision y 0.4880382775119617 de recall.\n"
     ]
    }
   ],
   "source": [
    "print(f'El modelo del arbol de decision con la mejor EXACTITUD \\nen el conjuto de entrenamiento con {accuracy_forest_best_train}',\n",
    "      f'\\ny en el conjunto de VALIDACION con {accuracy_forest_best_valid} \\nes --> {accuracy_best_model_forest}')\n",
    "\n",
    "print(f'\\nEl modelo del arbol de decision con la mejor PRECISION \\nen el conjuto de entrenamiento con {precision_forest_best_train}',\n",
    "      f'\\ny en el conjunto de VALIDACION con {precision_forest_best_valid} \\nes --> {precision_best_model_forest}')\n",
    "\n",
    "print(f'\\nEl modelo del arbol de decision con la mejor SENSIBILIDAD (recall) \\nen el conjuto de entrenamiento con {recall_forest_best_train}',\n",
    "      f'\\ny en el conjunto de VALIDACION con {recall_forest_best_valid} \\nes --> {recall_best_model_forest}')   \n",
    "\n",
    "print(f'\\nEl modelo del arbol de decision con el mejor F1_SCORE \\nen el conjuto de entrenamiento con {f1_forest_best_train}',\n",
    "      f'\\ny en el conjunto de VALIDACION con {f1_forest_best_valid} \\nes --> {f1_best_model_forest}', \n",
    "      f'\\ncon {f1_precision_forest} de precision y {f1_recall_forest} de recall.')      "
   ]
  },
  {
   "cell_type": "markdown",
   "metadata": {},
   "source": [
    "En la SENSIBILIDAD tenemos un valor de 0.488, con un numero estimados de 1. \n",
    "\n",
    "Esto indica que tenemos una porcion de VP frente a las VP + FN muy bajo. \n",
    "Ya que de acuerdo con la matriz de confusion, VP + FN = 190 + 228 = 418, tenemos que se predijo correctamente aproximadamente la mitad como VP y la otra mitad como FN. \n",
    "Por esto obtuvimos un recall del modelo de casi el 50%, así que si lo comparamos con el recall de un modelo constante obtuvimos un 0.45, es decir, el modelo logra predecir ligeramente mejor que un modelo constante. \n"
   ]
  },
  {
   "cell_type": "markdown",
   "metadata": {},
   "source": [
    "En la PRECISION tenemos un valor de 0.737, con un numero de estimados de 6. \n",
    "\n",
    "Tenemos la relacion entre las predicciones VP y todas las predicciones positivas (VP + FP) que haya realizado el modelo. Por lo que, mientras mas FP se hayan predicho, menor será la precision. Tenemos 228 valores que eran positivos y el modelo los considero como negativos, sin demasionados en comparacion a los valores negativos que el modelo creyó que eran positivos (FP) -> 57.\n",
    "\n",
    "Podemos ver que tenemos mejor precision que sensibilidad, esto es porque concidera mas la parte POSITIVA que la NEGATIVA. Sin embargo, necesitamos mejorar la SENSIBILIDAD ya que el modelo tiene que predecir SI el cliente se va del banco para poder prevenirlo, un VP o FN representan esta situacion. \n",
    "\n",
    "Con respecto a un modelo contantante, estamos casi igual, con una diferencia de 0.03."
   ]
  },
  {
   "cell_type": "markdown",
   "metadata": {},
   "source": [
    "En el promedio de ambos, F1_SCORE tenemos un valor de 0.48, con un maximo de estimados de 1. \n",
    "\n",
    "+ Con una precision de 0.454\n",
    "\n",
    "+ Con un recall de 0.488"
   ]
  },
  {
   "cell_type": "code",
   "execution_count": 26,
   "metadata": {},
   "outputs": [
    {
     "name": "stdout",
     "output_type": "stream",
     "text": [
      "0    0.8765\n",
      "1    0.1235\n",
      "Name: proportion, dtype: float64\n",
      "La EXACTITUD del modelo de arbol de decision con un modelo constante es: 0.8575\n",
      "La PRECISION del modelo de arbol de decision con un modelo constante es: 0.7692307692307693\n",
      "La SENSIBILIDAD del modelo de arbol de decision con un modelo constante es: 0.45454545454545453\n",
      "El F1_SCORE del modelo de arbol de decision con un modelo constante es: 0.5714285714285714\n"
     ]
    },
    {
     "data": {
      "image/png": "[encoded data removed]",
      "text/plain": [
       "<Figure size 640x480 with 1 Axes>"
      ]
     },
     "metadata": {},
     "output_type": "display_data"
    }
   ],
   "source": [
    "#PRUEBA DE CORDURA\n",
    "model_forest = RandomForestClassifier(random_state= 12345)\n",
    "model_forest.fit(features_train,target_train)\n",
    "predictions_valid_forest_constant = pd.Series(model_forest.predict(features_valid)) \n",
    "\n",
    "class_frequency_forest = predictions_valid_forest_constant.value_counts(normalize= True)\n",
    "print(class_frequency_forest)\n",
    "class_frequency_forest.plot(kind= 'bar')\n",
    "\n",
    "print('La EXACTITUD del modelo de arbol de decision con un modelo constante es:',accuracy_score(target_valid,predictions_valid_forest_constant))\n",
    "print('La PRECISION del modelo de arbol de decision con un modelo constante es:',precision_score(target_valid,predictions_valid_forest_constant))\n",
    "print('La SENSIBILIDAD del modelo de arbol de decision con un modelo constante es:',recall_score(target_valid,predictions_valid_forest_constant))\n",
    "print('El F1_SCORE del modelo de arbol de decision con un modelo constante es:',f1_score(target_valid,predictions_valid_forest_constant))"
   ]
  },
  {
   "cell_type": "code",
   "execution_count": 27,
   "metadata": {},
   "outputs": [
    {
     "name": "stdout",
     "output_type": "stream",
     "text": [
      "Nueva EXACTITUD con Sobremuestreo -->  0.7945\n",
      "Nueva PRECISION con Sobremuestreo -->  0.5057851239669422\n",
      "Nueva SENSIBILIDAD con Sobremuestreo -->  0.7320574162679426\n",
      "Nuevo F1_SCORE con Sobremuestreo -->  0.5982404692082112\n"
     ]
    }
   ],
   "source": [
    "#SOBREMUESTREO\n",
    "model_forest = RandomForestClassifier(random_state= 12345 , n_estimators = 6,  class_weight= 'balanced', max_depth= 6)\n",
    "model_forest.fit(features_up , target_up)\n",
    "\n",
    "predictions_valid_forest = model_forest.predict(features_valid)\n",
    "\n",
    "accuracy_forest_v_up = accuracy_score(target_valid , predictions_valid_forest)\n",
    "precision_forest_v_up = precision_score(target_valid , predictions_valid_forest)\n",
    "recall_forest_v_up = recall_score(target_valid , predictions_valid_forest)\n",
    "f1_forest_v_up = f1_score(target_valid , predictions_valid_forest)\n",
    "\n",
    "print('Nueva EXACTITUD con Sobremuestreo --> ' , accuracy_forest_v_up) \n",
    "print('Nueva PRECISION con Sobremuestreo --> ' , precision_forest_v_up) \n",
    "print('Nueva SENSIBILIDAD con Sobremuestreo --> ' , recall_forest_v_up )\n",
    "print('Nuevo F1_SCORE con Sobremuestreo --> ' , f1_forest_v_up)"
   ]
  },
  {
   "cell_type": "code",
   "execution_count": 28,
   "metadata": {},
   "outputs": [
    {
     "name": "stdout",
     "output_type": "stream",
     "text": [
      "Nueva EXACTITUD con Submuestreo -->  0.7485\n",
      "Nueva PRECISION con Submuestreo -->  0.4400564174894217\n",
      "Nueva SENSIBILIDAD con Submuestreo -->  0.7464114832535885\n",
      "Nuevo F1_SCORE con Submuestreo -->  0.5536823425022183\n"
     ]
    }
   ],
   "source": [
    "#SUBMUESTREO\n",
    "model_forest = RandomForestClassifier(random_state= 12345 , n_estimators = 6, class_weight= 'balanced', max_depth= 6)\n",
    "model_forest.fit(features_down , target_down)\n",
    "\n",
    "predictions_valid_forest = model_forest.predict(features_valid)\n",
    "\n",
    "accuracy_forest_v_down = accuracy_score(target_valid , predictions_valid_forest)\n",
    "precision_forest_v_down = precision_score(target_valid , predictions_valid_forest)\n",
    "recall_forest_v_down = recall_score(target_valid , predictions_valid_forest)\n",
    "f1_forest_v_down = f1_score(target_valid , predictions_valid_forest)\n",
    "\n",
    "print('Nueva EXACTITUD con Submuestreo --> ' , accuracy_forest_v_down) \n",
    "print('Nueva PRECISION con Submuestreo --> ' , precision_forest_v_down) \n",
    "print('Nueva SENSIBILIDAD con Submuestreo --> ' , recall_forest_v_down)\n",
    "print('Nuevo F1_SCORE con Submuestreo --> ' , f1_forest_v_down)"
   ]
  },
  {
   "cell_type": "markdown",
   "metadata": {},
   "source": [
    "**RESUMEN BOSQUE ALEATORIO**\n",
    "\n",
    "El modelo del arbol de decision con la mejor EXACTITUD con 0.717 \n",
    "\n",
    "El modelo del arbol de decision con la mejor PRECISION con 0.7372881355932204 \n",
    "\n",
    "\n",
    "El modelo del arbol de decision con la mejor SENSIBILIDAD (recall) con 0.4880382775119617 \n",
    "\n",
    "\n",
    "El modelo del arbol de decision con el mejor F1_SCORE con 0.4880382775119617 \n",
    "\n",
    "-- \n",
    "\n",
    "\n",
    "PRUEBA DE CORDURA. \n",
    "\n",
    "La EXACTITUD con un modelo constante es: 0.8575\n",
    "\n",
    "La PRECISION con un modelo constante es: 0.7692307692307693\n",
    "\n",
    "La SENSIBILIDAD con un modelo constante es: 0.45454545454545453\n",
    "\n",
    "El F1_SCORE con un modelo constante es: 0.5714285714285714\n",
    "\n",
    "--\n",
    "\n",
    "SOBREMUESTREO. RandomForestClassifier(random_state= 12345 , n_estimators = 6, class_weight= 'balanced', max_depth= 6)\n",
    "\n",
    "Nueva EXACTITUD con Sobremuestreo -->  0.7945\n",
    "\n",
    "Nueva PRECISION con Sobremuestreo -->  0.5057851239669422\n",
    "\n",
    "Nueva SENSIBILIDAD con Sobremuestreo -->  0.7320574162679426\n",
    "\n",
    "Nuevo F1_SCORE con Sobremuestreo -->  0.5982404692082112\n",
    "\n",
    "--\n",
    "\n",
    "SUBMUESTREO. RandomForestClassifier(random_state= 12345 , n_estimators = 6, class_weight= 'balanced', max_depth= 6)\n",
    "\n",
    "Nueva EXACTITUD con Submuestreo -->  0.7485\n",
    "\n",
    "Nueva PRECISION con Submuestreo -->  0.4400564174894217\n",
    "\n",
    "Nueva SENSIBILIDAD con Submuestreo -->  0.7464114832535885\n",
    "\n",
    "Nuevo F1_SCORE con Submuestreo -->  0.5536823425022183\n",
    "\n",
    "\n",
    "Al comporar todos los resultados, podemos ver que despues de hacer un sobremuestreo, hacer arreglos en los conjutos de datos hay una buena mejora. \n",
    "Alcanzando el 0.59 de F1_SCORE.\n",
    "\n",
    "Podemos intentar cambiar el umbral para ver si hay una mejora considerable. "
   ]
  },
  {
   "cell_type": "code",
   "execution_count": 29,
   "metadata": {},
   "outputs": [
    {
     "name": "stdout",
     "output_type": "stream",
     "text": [
      "Acorde con el Modelo Arbol de Decision y un sobremuestreo, tenemos las siguientes probabilidades de que el resultado sea :\n",
      " Negativa(0) -- Positiva(1)\n",
      " [[0.81681189 0.18318811]\n",
      " [0.40870433 0.59129567]\n",
      " [0.58010596 0.41989404]\n",
      " ...\n",
      " [0.66969503 0.33030497]\n",
      " [0.32960204 0.67039796]\n",
      " [0.09532228 0.90467772]]\n",
      "Threshold| Precision| Recall| F1_SCORE\n",
      "0.00     | 0.209    | 1.000 | 0.346 \n",
      "\n",
      "Threshold| Precision| Recall| F1_SCORE\n",
      "0.10     | 0.212    | 1.000 | 0.350 \n",
      "\n",
      "Threshold| Precision| Recall| F1_SCORE\n",
      "0.20     | 0.248    | 0.978 | 0.396 \n",
      "\n",
      "Threshold| Precision| Recall| F1_SCORE\n",
      "0.30     | 0.297    | 0.926 | 0.450 \n",
      "\n",
      "Threshold| Precision| Recall| F1_SCORE\n",
      "0.40     | 0.384    | 0.852 | 0.530 \n",
      "\n",
      "Threshold| Precision| Recall| F1_SCORE\n",
      "0.50     | 0.506    | 0.732 | 0.598 \n",
      "\n",
      "Threshold| Precision| Recall| F1_SCORE\n",
      "0.60     | 0.626    | 0.553 | 0.587 \n",
      "\n",
      "Threshold| Precision| Recall| F1_SCORE\n",
      "0.70     | 0.757    | 0.433 | 0.551 \n",
      "\n",
      "Threshold| Precision| Recall| F1_SCORE\n",
      "0.80     | 0.850    | 0.230 | 0.362 \n",
      "\n",
      "Threshold| Precision| Recall| F1_SCORE\n",
      "0.90     | 0.909    | 0.072 | 0.133 \n",
      "\n"
     ]
    }
   ],
   "source": [
    "model_forest = RandomForestClassifier(random_state= 12345, n_estimators= 6, max_depth= 6 , class_weight= 'balanced')\n",
    "model_forest.fit(features_up, target_up)\n",
    "\n",
    "probabilities_forest_valid = model_forest.predict_proba(features_valid)\n",
    "probabilities_one_forest_valid = probabilities_forest_valid[:,1]\n",
    "\n",
    "print('Acorde con el Modelo Arbol de Decision y un sobremuestreo, tenemos las siguientes probabilidades de que el resultado sea :\\n Negativa(0) -- Positiva(1)\\n'\n",
    "      ,probabilities_forest_valid)\n",
    "\n",
    "for threshold_forest in np.arange(0, 1 , 0.1):\n",
    "    \n",
    "    predicted_forest_valid = probabilities_one_forest_valid > threshold_forest\n",
    "    precision_forest_umbral = precision_score(target_valid , predicted_forest_valid)\n",
    "    recall_forest_umbral = recall_score(target_valid , predicted_forest_valid)\n",
    "    f1_forest_umbral = f1_score(target_valid , predicted_forest_valid)\n",
    "    print('Threshold| Precision| Recall| F1_SCORE')\n",
    "    print('{:.2f}     | {:.3f}    | {:.3f} | {:.3f}'.format(threshold_forest,precision_forest_umbral,recall_forest_umbral,f1_forest_umbral),'\\n')"
   ]
  },
  {
   "cell_type": "code",
   "execution_count": 30,
   "metadata": {},
   "outputs": [],
   "source": [
    "precision_pr_forest , recall_pr_forest , threshold_pr_forest = precision_recall_curve(\n",
    "    target_valid, probabilities_one_forest_valid\n",
    ")"
   ]
  },
  {
   "cell_type": "code",
   "execution_count": 31,
   "metadata": {},
   "outputs": [
    {
     "data": {
      "image/png": "[encoded data removed]",
      "text/plain": [
       "<Figure size 600x600 with 1 Axes>"
      ]
     },
     "metadata": {},
     "output_type": "display_data"
    }
   ],
   "source": [
    "plt.figure(figsize = (6,6))\n",
    "plt.step(recall_pr_forest, precision_pr_forest, where= 'post')\n",
    "plt.xlabel('Recall')\n",
    "plt.xlim([0.0 , 1.0])\n",
    "plt.ylabel('Precision')\n",
    "plt.ylim([0.0 , 1.05])\n",
    "plt.title('Precision - Recall Curve BOSQUE ALEATORIO')\n",
    "plt.show()"
   ]
  },
  {
   "cell_type": "code",
   "execution_count": 32,
   "metadata": {},
   "outputs": [
    {
     "data": {
      "text/plain": [
       "Text(0.5, 1.0, 'Curva ROC RANDOM FOREST')"
      ]
     },
     "execution_count": 32,
     "metadata": {},
     "output_type": "execute_result"
    },
    {
     "data": {
      "image/png": "[encoded data removed]",
      "text/plain": [
       "<Figure size 640x480 with 1 Axes>"
      ]
     },
     "metadata": {},
     "output_type": "display_data"
    }
   ],
   "source": [
    "fpr_forest , tpr_forest , th_forest = roc_curve(target_valid , probabilities_one_forest_valid)\n",
    "\n",
    "plt.figure()\n",
    "plt.plot(fpr_forest , tpr_forest)\n",
    "plt.plot([0 , 1] , [0 , 1], linestyle = '--')\n",
    "plt.xlim([0.0 , 1.0])\n",
    "plt.ylim([0.0 , 1.0])\n",
    "plt.xlabel('Tasa de Falsos Positivos RFM')\n",
    "plt.ylabel('Tasa de Verdaderos Positivos RFM')\n",
    "plt.title('Curva ROC RANDOM FOREST')"
   ]
  },
  {
   "cell_type": "code",
   "execution_count": 33,
   "metadata": {},
   "outputs": [
    {
     "name": "stdout",
     "output_type": "stream",
     "text": [
      "0.8450994743495909\n"
     ]
    }
   ],
   "source": [
    "auc_roc_forest = roc_auc_score(target_valid , probabilities_one_forest_valid)\n",
    "print(auc_roc_forest)"
   ]
  },
  {
   "cell_type": "markdown",
   "metadata": {},
   "source": [
    "**CONCLUSION RANDOM FOREST MODEL.**\n",
    "\n",
    "Tenemos un fuerte F1_SCORE aquí con un modelo mas especifico:\n",
    "model_forest = RandomForestClassifier(random_state= 12345, n_estimators= 6, max_depth= 6 , class_weight= 'balanced')\n",
    "\n",
    "Con un F1_SCORE DE 0.598 \n",
    "\n",
    "Con un AUC-ROC  DE 0.84\n",
    "\n",
    "Con estos valores podemos hacer uso de este modelo para predecir de mejor manera las salidas de los clientes y así poder prevenirlas. "
   ]
  },
  {
   "cell_type": "markdown",
   "metadata": {},
   "source": [
    "**LINEAL REGRESSION**\n",
    "---\n"
   ]
  },
  {
   "cell_type": "code",
   "execution_count": 34,
   "metadata": {},
   "outputs": [],
   "source": [
    "encoder = OrdinalEncoder()\n",
    "data_ordinal = pd.DataFrame(encoder.fit_transform(data), columns= data.columns)"
   ]
  },
  {
   "cell_type": "code",
   "execution_count": 35,
   "metadata": {},
   "outputs": [
    {
     "name": "stdout",
     "output_type": "stream",
     "text": [
      "Nuestro conjunto de caracteristicas para entrenamiento tiene un cantidad de valores:  (6000, 11)\n",
      "Nuestro conjunto de objetivo para entrenamiento tiene un cantidad de valores:  (6000,)\n",
      "\n",
      "Nuestro conjunto de caracteristicas para validacion tiene un cantidad de valores:  (2000, 11)\n",
      "Nuestro conjunto de objetivo para validacion tiene un cantidad de valores:  (2000,)\n",
      "\n",
      "Nuestro conjunto de caracteristicas para prueba tiene un cantidad de valores:  (2000, 11)\n",
      "Nuestro conjunto de objetivo para prueba tiene un cantidad de valores:  (2000,)\n"
     ]
    },
    {
     "data": {
      "text/html": [
       "<div>\n",
       "<style scoped>\n",
       "    .dataframe tbody tr th:only-of-type {\n",
       "        vertical-align: middle;\n",
       "    }\n",
       "\n",
       "    .dataframe tbody tr th {\n",
       "        vertical-align: top;\n",
       "    }\n",
       "\n",
       "    .dataframe thead th {\n",
       "        text-align: right;\n",
       "    }\n",
       "</style>\n",
       "<table border=\"1\" class=\"dataframe\">\n",
       "  <thead>\n",
       "    <tr style=\"text-align: right;\">\n",
       "      <th></th>\n",
       "      <th>CustomerId</th>\n",
       "      <th>CreditScore</th>\n",
       "      <th>Geography</th>\n",
       "      <th>Gender</th>\n",
       "      <th>Age</th>\n",
       "      <th>Tenure</th>\n",
       "      <th>Balance</th>\n",
       "      <th>NumOfProducts</th>\n",
       "      <th>HasCrCard</th>\n",
       "      <th>IsActiveMember</th>\n",
       "      <th>EstimatedSalary</th>\n",
       "    </tr>\n",
       "  </thead>\n",
       "  <tbody>\n",
       "    <tr>\n",
       "      <th>7479</th>\n",
       "      <td>4247.0</td>\n",
       "      <td>176.0</td>\n",
       "      <td>2.0</td>\n",
       "      <td>1.0</td>\n",
       "      <td>17.0</td>\n",
       "      <td>8.0</td>\n",
       "      <td>5562.0</td>\n",
       "      <td>0.0</td>\n",
       "      <td>1.0</td>\n",
       "      <td>0.0</td>\n",
       "      <td>4416.0</td>\n",
       "    </tr>\n",
       "    <tr>\n",
       "      <th>3411</th>\n",
       "      <td>9995.0</td>\n",
       "      <td>320.0</td>\n",
       "      <td>0.0</td>\n",
       "      <td>0.0</td>\n",
       "      <td>19.0</td>\n",
       "      <td>8.0</td>\n",
       "      <td>2688.0</td>\n",
       "      <td>0.0</td>\n",
       "      <td>0.0</td>\n",
       "      <td>0.0</td>\n",
       "      <td>3997.0</td>\n",
       "    </tr>\n",
       "    <tr>\n",
       "      <th>6027</th>\n",
       "      <td>9350.0</td>\n",
       "      <td>459.0</td>\n",
       "      <td>1.0</td>\n",
       "      <td>1.0</td>\n",
       "      <td>26.0</td>\n",
       "      <td>3.0</td>\n",
       "      <td>4859.0</td>\n",
       "      <td>1.0</td>\n",
       "      <td>0.0</td>\n",
       "      <td>1.0</td>\n",
       "      <td>9319.0</td>\n",
       "    </tr>\n",
       "    <tr>\n",
       "      <th>1247</th>\n",
       "      <td>5819.0</td>\n",
       "      <td>121.0</td>\n",
       "      <td>0.0</td>\n",
       "      <td>1.0</td>\n",
       "      <td>6.0</td>\n",
       "      <td>6.0</td>\n",
       "      <td>0.0</td>\n",
       "      <td>1.0</td>\n",
       "      <td>1.0</td>\n",
       "      <td>0.0</td>\n",
       "      <td>1853.0</td>\n",
       "    </tr>\n",
       "    <tr>\n",
       "      <th>3716</th>\n",
       "      <td>5350.0</td>\n",
       "      <td>274.0</td>\n",
       "      <td>1.0</td>\n",
       "      <td>0.0</td>\n",
       "      <td>9.0</td>\n",
       "      <td>2.0</td>\n",
       "      <td>5276.0</td>\n",
       "      <td>0.0</td>\n",
       "      <td>0.0</td>\n",
       "      <td>0.0</td>\n",
       "      <td>9362.0</td>\n",
       "    </tr>\n",
       "  </tbody>\n",
       "</table>\n",
       "</div>"
      ],
      "text/plain": [
       "      CustomerId  CreditScore  Geography  Gender   Age  Tenure  Balance  \\\n",
       "7479      4247.0        176.0        2.0     1.0  17.0     8.0   5562.0   \n",
       "3411      9995.0        320.0        0.0     0.0  19.0     8.0   2688.0   \n",
       "6027      9350.0        459.0        1.0     1.0  26.0     3.0   4859.0   \n",
       "1247      5819.0        121.0        0.0     1.0   6.0     6.0      0.0   \n",
       "3716      5350.0        274.0        1.0     0.0   9.0     2.0   5276.0   \n",
       "\n",
       "      NumOfProducts  HasCrCard  IsActiveMember  EstimatedSalary  \n",
       "7479            0.0        1.0             0.0           4416.0  \n",
       "3411            0.0        0.0             0.0           3997.0  \n",
       "6027            1.0        0.0             1.0           9319.0  \n",
       "1247            1.0        1.0             0.0           1853.0  \n",
       "3716            0.0        0.0             0.0           9362.0  "
      ]
     },
     "metadata": {},
     "output_type": "display_data"
    }
   ],
   "source": [
    "features_ordinal = data_ordinal.drop(['Exited','Surname','RowNumber'],axis= 1)\n",
    "target_ordinal = data_ordinal['Exited']\n",
    "features_train_o , features_valid_test_o , target_train_o , target_valid_test_o = train_test_split(features_ordinal, target_ordinal, test_size =0.4 , random_state = 12345)\n",
    "features_valid_o , features_test_o , target_valid_o , target_test_o = train_test_split(features_valid_test_o, target_valid_test_o, test_size =0.5 , random_state = 12345)\n",
    "\n",
    "print('Nuestro conjunto de caracteristicas para entrenamiento tiene un cantidad de valores: ',features_train_o.shape)\n",
    "print('Nuestro conjunto de objetivo para entrenamiento tiene un cantidad de valores: ',target_train_o.shape)\n",
    "print('\\nNuestro conjunto de caracteristicas para validacion tiene un cantidad de valores: ',features_valid_o.shape)\n",
    "print('Nuestro conjunto de objetivo para validacion tiene un cantidad de valores: ',target_valid_o.shape)\n",
    "print('\\nNuestro conjunto de caracteristicas para prueba tiene un cantidad de valores: ',features_test_o.shape)\n",
    "print('Nuestro conjunto de objetivo para prueba tiene un cantidad de valores: ',target_test_o.shape)\n",
    "\n",
    "display(features_train_o.head())"
   ]
  },
  {
   "cell_type": "code",
   "execution_count": 36,
   "metadata": {},
   "outputs": [
    {
     "data": {
      "text/html": [
       "<div>\n",
       "<style scoped>\n",
       "    .dataframe tbody tr th:only-of-type {\n",
       "        vertical-align: middle;\n",
       "    }\n",
       "\n",
       "    .dataframe tbody tr th {\n",
       "        vertical-align: top;\n",
       "    }\n",
       "\n",
       "    .dataframe thead th {\n",
       "        text-align: right;\n",
       "    }\n",
       "</style>\n",
       "<table border=\"1\" class=\"dataframe\">\n",
       "  <thead>\n",
       "    <tr style=\"text-align: right;\">\n",
       "      <th></th>\n",
       "      <th>CustomerId</th>\n",
       "      <th>CreditScore</th>\n",
       "      <th>Geography</th>\n",
       "      <th>Gender</th>\n",
       "      <th>Age</th>\n",
       "      <th>Tenure</th>\n",
       "      <th>Balance</th>\n",
       "      <th>NumOfProducts</th>\n",
       "      <th>HasCrCard</th>\n",
       "      <th>IsActiveMember</th>\n",
       "      <th>EstimatedSalary</th>\n",
       "    </tr>\n",
       "  </thead>\n",
       "  <tbody>\n",
       "    <tr>\n",
       "      <th>7479</th>\n",
       "      <td>-0.265492</td>\n",
       "      <td>-0.888356</td>\n",
       "      <td>1.507307</td>\n",
       "      <td>0.907278</td>\n",
       "      <td>-0.373277</td>\n",
       "      <td>1.082277</td>\n",
       "      <td>1.663957</td>\n",
       "      <td>-0.891560</td>\n",
       "      <td>0.642466</td>\n",
       "      <td>-1.055187</td>\n",
       "      <td>-0.190775</td>\n",
       "    </tr>\n",
       "    <tr>\n",
       "      <th>3411</th>\n",
       "      <td>1.722692</td>\n",
       "      <td>0.608996</td>\n",
       "      <td>-0.900852</td>\n",
       "      <td>-1.102198</td>\n",
       "      <td>-0.183370</td>\n",
       "      <td>1.082277</td>\n",
       "      <td>0.309701</td>\n",
       "      <td>-0.891560</td>\n",
       "      <td>-1.556504</td>\n",
       "      <td>-1.055187</td>\n",
       "      <td>-0.335352</td>\n",
       "    </tr>\n",
       "    <tr>\n",
       "      <th>6027</th>\n",
       "      <td>1.499592</td>\n",
       "      <td>2.054357</td>\n",
       "      <td>0.303227</td>\n",
       "      <td>0.907278</td>\n",
       "      <td>0.481302</td>\n",
       "      <td>-0.737696</td>\n",
       "      <td>1.332696</td>\n",
       "      <td>0.830152</td>\n",
       "      <td>-1.556504</td>\n",
       "      <td>0.947699</td>\n",
       "      <td>1.501017</td>\n",
       "    </tr>\n",
       "    <tr>\n",
       "      <th>1247</th>\n",
       "      <td>0.278249</td>\n",
       "      <td>-1.460262</td>\n",
       "      <td>-0.900852</td>\n",
       "      <td>0.907278</td>\n",
       "      <td>-1.417761</td>\n",
       "      <td>0.354288</td>\n",
       "      <td>-0.956910</td>\n",
       "      <td>0.830152</td>\n",
       "      <td>0.642466</td>\n",
       "      <td>-1.055187</td>\n",
       "      <td>-1.075144</td>\n",
       "    </tr>\n",
       "    <tr>\n",
       "      <th>3716</th>\n",
       "      <td>0.116026</td>\n",
       "      <td>0.130675</td>\n",
       "      <td>0.303227</td>\n",
       "      <td>-1.102198</td>\n",
       "      <td>-1.132902</td>\n",
       "      <td>-1.101690</td>\n",
       "      <td>1.529191</td>\n",
       "      <td>-0.891560</td>\n",
       "      <td>-1.556504</td>\n",
       "      <td>-1.055187</td>\n",
       "      <td>1.515855</td>\n",
       "    </tr>\n",
       "  </tbody>\n",
       "</table>\n",
       "</div>"
      ],
      "text/plain": [
       "      CustomerId  CreditScore  Geography    Gender       Age    Tenure  \\\n",
       "7479   -0.265492    -0.888356   1.507307  0.907278 -0.373277  1.082277   \n",
       "3411    1.722692     0.608996  -0.900852 -1.102198 -0.183370  1.082277   \n",
       "6027    1.499592     2.054357   0.303227  0.907278  0.481302 -0.737696   \n",
       "1247    0.278249    -1.460262  -0.900852  0.907278 -1.417761  0.354288   \n",
       "3716    0.116026     0.130675   0.303227 -1.102198 -1.132902 -1.101690   \n",
       "\n",
       "       Balance  NumOfProducts  HasCrCard  IsActiveMember  EstimatedSalary  \n",
       "7479  1.663957      -0.891560   0.642466       -1.055187        -0.190775  \n",
       "3411  0.309701      -0.891560  -1.556504       -1.055187        -0.335352  \n",
       "6027  1.332696       0.830152  -1.556504        0.947699         1.501017  \n",
       "1247 -0.956910       0.830152   0.642466       -1.055187        -1.075144  \n",
       "3716  1.529191      -0.891560  -1.556504       -1.055187         1.515855  "
      ]
     },
     "metadata": {},
     "output_type": "display_data"
    }
   ],
   "source": [
    "numerics_o = ['CustomerId','CreditScore', 'Age', 'Tenure',\n",
    "       'Balance', 'NumOfProducts', 'HasCrCard', 'IsActiveMember',\n",
    "       'EstimatedSalary','Geography','Gender']\n",
    "scaler = StandardScaler()\n",
    "scaler.fit(features_train_o[numerics_o])\n",
    "\n",
    "features_train_o[numerics_o] = scaler.transform(features_train_o[numerics_o])\n",
    "features_valid_o[numerics_o] = scaler.transform(features_valid_o[numerics_o])\n",
    "features_test_o[numerics_o] = scaler.transform(features_test_o[numerics_o])\n",
    "\n",
    "display(features_train_o.head())"
   ]
  },
  {
   "cell_type": "code",
   "execution_count": 37,
   "metadata": {},
   "outputs": [
    {
     "name": "stdout",
     "output_type": "stream",
     "text": [
      "[[1531   51]\n",
      " [ 344   74]]\n"
     ]
    }
   ],
   "source": [
    "#Lineal Regression\n",
    "model_regression = LogisticRegression(random_state= 12345, solver='liblinear')\n",
    "model_regression.fit(features_train_o , target_train_o)\n",
    "\n",
    "predictions_train_regression = model_regression.predict(features_train_o)\n",
    "predictions_valid_regression = model_regression.predict(features_valid_o)\n",
    "\n",
    "print(confusion_matrix(target_valid_o , predictions_valid_regression))"
   ]
  },
  {
   "cell_type": "markdown",
   "metadata": {},
   "source": [
    "Para el modelo Regresion Logistica tenemos una matriz de confusion de:\n",
    "\n",
    "1531 VN || 51 FP\n",
    "\n",
    "344 FN  || 74 VP  \n",
    "\n",
    "Tenemos 1582 valores con una correcta prediccion, y 418 valores predichos erroneamente. \n",
    "Parace que no pudo predecir ningun valor Verdadero Positivo, simplemente calculo todo como negativo, indica que tenemos una sobre carga en los VERDADEROS NEGATIVOS."
   ]
  },
  {
   "cell_type": "code",
   "execution_count": 38,
   "metadata": {},
   "outputs": [],
   "source": [
    "accuracy_regression_t = accuracy_score(target_train_o , predictions_train_regression)\n",
    "precision_regression_t = precision_score(target_train_o , predictions_train_regression)\n",
    "recall_regression_t = recall_score(target_train_o , predictions_train_regression)\n",
    "f1_regression_t = f1_score(target_train_o , predictions_train_regression)\n",
    "\n",
    "accuracy_regression_v = accuracy_score(target_valid_o , predictions_valid_regression)\n",
    "precision_regression_v = precision_score(target_valid_o , predictions_valid_regression)\n",
    "recall_regression_v = recall_score(target_valid_o , predictions_valid_regression)\n",
    "f1_regression_v = f1_score(target_valid_o , predictions_valid_regression)"
   ]
  },
  {
   "cell_type": "code",
   "execution_count": 39,
   "metadata": {},
   "outputs": [
    {
     "name": "stdout",
     "output_type": "stream",
     "text": [
      "El modelo Regresion Logistica tiene una EXACTITUD \n",
      "en el conjuto de entrenamiento con 0.8151666666666667 \n",
      "y en el conjunto de VALIDACION con 0.8025\n",
      "\n",
      "El modelo Regresion Logistica con la mejor PRECISION \n",
      "en el conjuto de entrenamiento con 0.6172506738544474 \n",
      "y en el conjunto de VALIDACION con 0.592\n",
      "\n",
      "El modelo Regresion Logistica con la mejor SENSIBILIDAD (recall) \n",
      "en el conjuto de entrenamiento con 0.19147157190635453 \n",
      "y en el conjunto de VALIDACION con 0.17703349282296652\n",
      "\n",
      "El modelo Regresion Logistica con el mejor F1 \n",
      "en el conjuto de entrenamiento con 0.29227823867262287 \n",
      "y en el conjunto de VALIDACION con 0.27255985267034993\n"
     ]
    }
   ],
   "source": [
    "print(f'El modelo Regresion Logistica tiene una EXACTITUD \\nen el conjuto de entrenamiento con {accuracy_regression_t}',\n",
    "      f'\\ny en el conjunto de VALIDACION con {accuracy_regression_v}')\n",
    "\n",
    "print(f'\\nEl modelo Regresion Logistica con la mejor PRECISION \\nen el conjuto de entrenamiento con {precision_regression_t}',\n",
    "      f'\\ny en el conjunto de VALIDACION con {precision_regression_v}')\n",
    "\n",
    "print(f'\\nEl modelo Regresion Logistica con la mejor SENSIBILIDAD (recall) \\nen el conjuto de entrenamiento con {recall_regression_t}',\n",
    "      f'\\ny en el conjunto de VALIDACION con {recall_regression_v}')\n",
    "\n",
    "print(f'\\nEl modelo Regresion Logistica con el mejor F1 \\nen el conjuto de entrenamiento con {f1_regression_t}',\n",
    "      f'\\ny en el conjunto de VALIDACION con {f1_regression_v}')"
   ]
  },
  {
   "cell_type": "markdown",
   "metadata": {},
   "source": [
    "La mejor PRECISION obtenida fue de 0.59"
   ]
  },
  {
   "cell_type": "markdown",
   "metadata": {},
   "source": [
    "La mejor SENBILIDAD obtenida fue de 0.177"
   ]
  },
  {
   "cell_type": "code",
   "execution_count": 40,
   "metadata": {},
   "outputs": [
    {
     "name": "stdout",
     "output_type": "stream",
     "text": [
      "0.0    0.9375\n",
      "1.0    0.0625\n",
      "Name: proportion, dtype: float64\n",
      "La EXACTITUD del modelo de regresion logistica con un modelo constante es: 0.8025\n",
      "La PRECISION del modelo de regresion logistica con un modelo constante es: 0.592\n",
      "La SENSIBILIDAD del modelo de regresion logistica con un modelo constante es: 0.17703349282296652\n",
      "El F1_SCORE del modelo de regresion logistica con un modelo constante es: 0.27255985267034993\n"
     ]
    },
    {
     "data": {
      "image/png": "[encoded data removed]",
      "text/plain": [
       "<Figure size 640x480 with 1 Axes>"
      ]
     },
     "metadata": {},
     "output_type": "display_data"
    }
   ],
   "source": [
    "#PRUEBA DE CORDURA\n",
    "model_regression = LogisticRegression(random_state= 12345, solver='liblinear')\n",
    "model_regression.fit(features_train_o , target_train_o)\n",
    "\n",
    "predictions_valid_regression_constant = pd.Series(model_regression.predict(features_valid_o)) \n",
    "\n",
    "class_frequency_regression = predictions_valid_regression_constant.value_counts(normalize= True)\n",
    "print(class_frequency_regression)\n",
    "class_frequency_regression.plot(kind= 'bar')\n",
    "\n",
    "print('La EXACTITUD del modelo de regresion logistica con un modelo constante es:',accuracy_score(target_valid_o,predictions_valid_regression_constant))\n",
    "print('La PRECISION del modelo de regresion logistica con un modelo constante es:',precision_score(target_valid_o,predictions_valid_regression_constant))\n",
    "print('La SENSIBILIDAD del modelo de regresion logistica con un modelo constante es:',recall_score(target_valid_o,predictions_valid_regression_constant))\n",
    "print('El F1_SCORE del modelo de regresion logistica con un modelo constante es:',f1_score(target_valid_o,predictions_valid_regression_constant))"
   ]
  },
  {
   "cell_type": "markdown",
   "metadata": {},
   "source": [
    "**SOBREMUESTREO EN LOGISTIC REGRESSION MODEL.**\n",
    "\n",
    "Haremos una prueba con el sobremuestreo en el conjunto de entrenamiento para mejorar el F1_SCORE. "
   ]
  },
  {
   "cell_type": "code",
   "execution_count": 41,
   "metadata": {},
   "outputs": [
    {
     "name": "stdout",
     "output_type": "stream",
     "text": [
      "Tenemos (4804, 11) ceros en las carateristicas.\n",
      "\n",
      "Tenemos (1196, 11) unos en las caracteristicas.\n",
      "\n",
      "Tenemos (4804,) ceros en el objetivo.\n",
      "\n",
      "Tenemos (1196,) unos en el objetivo.\n"
     ]
    }
   ],
   "source": [
    "features_zeros_regression = features_train_o[target_train_o == 0]\n",
    "features_ones_regression = features_train_o[target_train_o == 1]\n",
    "target_zeros_regression = target_train_o[target_train_o == 0]\n",
    "target_ones_regression = target_train_o[target_train_o == 1]\n",
    "\n",
    "print(f'Tenemos {features_zeros_regression.shape} ceros en las carateristicas.\\n')\n",
    "print(f'Tenemos {features_ones_regression.shape} unos en las caracteristicas.\\n')\n",
    "print(f'Tenemos {target_zeros_regression.shape} ceros en el objetivo.\\n')\n",
    "print(f'Tenemos {target_ones_regression.shape} unos en el objetivo.')"
   ]
  },
  {
   "cell_type": "markdown",
   "metadata": {},
   "source": [
    "Parece que tenemos un valor muy bajo en los ejemplos positivos, en proporcion tenemos un 80% de ejemplos negativos, donde los clientes no se han ido y un 20% de ejemplos positivos donde los clientes se han ido. "
   ]
  },
  {
   "cell_type": "code",
   "execution_count": 42,
   "metadata": {},
   "outputs": [],
   "source": [
    "def up(features , target , repeat):\n",
    "\n",
    "    features_zeros_regression = features[target == 0]\n",
    "    features_ones_regression = features[target == 1]\n",
    "    target_zeros_regression = target[target == 0]\n",
    "    target_ones_regression = target[target == 1]\n",
    "\n",
    "    features_up_regression = pd.concat([features_zeros_regression] + [features_ones_regression] * repeat)\n",
    "    target_up_regression = pd.concat([target_zeros_regression] + [target_ones_regression] * repeat)\n",
    "\n",
    "    features_up_regression , target_up_regression = shuffle(features_up_regression , target_up_regression, random_state= 12345)\n",
    "\n",
    "    return features_up_regression , target_up_regression\n",
    "\n",
    "features_up_regression , target_up_regression = up(features_train_o, target_train_o, 10)"
   ]
  },
  {
   "cell_type": "code",
   "execution_count": 43,
   "metadata": {},
   "outputs": [
    {
     "name": "stdout",
     "output_type": "stream",
     "text": [
      "Nueva EXACTITUD con Sobremuestreo -->  0.6875\n",
      "Nueva PRECISION con Sobremuestreo -->  0.3650586701434159\n",
      "Nueva SENSIBILIDAD con Sobremuestreo -->  0.6698564593301436\n",
      "Nuevo F1_SCORE con Sobremuestreo -->  0.47257383966244726\n"
     ]
    }
   ],
   "source": [
    "model_regression = LogisticRegression(random_state= 12345, solver='liblinear', class_weight= 'balanced')\n",
    "model_regression.fit(features_up_regression , target_up_regression)\n",
    "\n",
    "predictions_valid_regression = model_regression.predict(features_valid_o)\n",
    "\n",
    "accuracy_regression_v_up = accuracy_score(target_valid_o , predictions_valid_regression)\n",
    "precision_regression_v_up = precision_score(target_valid_o , predictions_valid_regression)\n",
    "recall_regression_v_up = recall_score(target_valid_o , predictions_valid_regression)\n",
    "f1_regression_v_up = f1_score(target_valid_o , predictions_valid_regression)\n",
    "\n",
    "print('Nueva EXACTITUD con Sobremuestreo --> ',accuracy_regression_v_up) \n",
    "print('Nueva PRECISION con Sobremuestreo --> ',precision_regression_v_up) \n",
    "print('Nueva SENSIBILIDAD con Sobremuestreo --> ',recall_regression_v_up )\n",
    "print('Nuevo F1_SCORE con Sobremuestreo --> ',f1_regression_v_up)"
   ]
  },
  {
   "cell_type": "markdown",
   "metadata": {},
   "source": [
    "**SUBMUESTREO EN LOGISTIC REGRESSION MODEL.**\n",
    "\n",
    "Haremos una prueba con el submuestreo en el conjunto de entrenamiento para mejorar el F1_SCORE. "
   ]
  },
  {
   "cell_type": "code",
   "execution_count": 44,
   "metadata": {},
   "outputs": [
    {
     "name": "stdout",
     "output_type": "stream",
     "text": [
      "(1676, 11) (1676,)\n"
     ]
    }
   ],
   "source": [
    "def down(features , target , fraction):\n",
    "\n",
    "    features_zeros_regression = features[target == 0]\n",
    "    features_ones_regression = features[target == 1]\n",
    "    target_zeros_regression = target[target == 0]\n",
    "    target_ones_regression = target[target == 1]\n",
    "\n",
    "    features_down_regression = pd.concat([features_zeros_regression.sample(frac = fraction , random_state= 12345)] + [features_ones_regression])\n",
    "    target_down_regression = pd.concat([target_zeros_regression.sample(frac = fraction , random_state= 12345)] + [target_ones_regression])\n",
    "\n",
    "    features_down_regression , target_down_regression = shuffle(features_down_regression , target_down_regression, random_state= 12345)\n",
    "\n",
    "    return features_down_regression , target_down_regression\n",
    "\n",
    "features_down_regression , target_down_regression = down(features_train_o, target_train_o, 0.1)\n",
    "\n",
    "print(features_down_regression.shape , target_down_regression.shape)"
   ]
  },
  {
   "cell_type": "code",
   "execution_count": 45,
   "metadata": {},
   "outputs": [
    {
     "name": "stdout",
     "output_type": "stream",
     "text": [
      "Nueva EXACTITUD con Submuestreo -->  0.688\n",
      "Nueva PRECISION con Submuestreo -->  0.3676092544987147\n",
      "Nueva SENSIBILIDAD con Submuestreo -->  0.6842105263157895\n",
      "Nuevo F1_SCORE con Submuestreo -->  0.4782608695652174\n"
     ]
    }
   ],
   "source": [
    "model_regression = LogisticRegression(random_state= 12345, solver='liblinear', class_weight= 'balanced')\n",
    "model_regression.fit(features_down_regression , target_down_regression)\n",
    "\n",
    "predictions_valid_regression = model_regression.predict(features_valid_o)\n",
    "\n",
    "accuracy_regression_v_down = accuracy_score(target_valid_o , predictions_valid_regression)\n",
    "precision_regression_v_down = precision_score(target_valid_o , predictions_valid_regression)\n",
    "recall_regression_v_down = recall_score(target_valid_o , predictions_valid_regression)\n",
    "f1_regression_v_down = f1_score(target_valid_o , predictions_valid_regression)\n",
    "\n",
    "print('Nueva EXACTITUD con Submuestreo --> ',accuracy_regression_v_down) \n",
    "print('Nueva PRECISION con Submuestreo --> ',precision_regression_v_down) \n",
    "print('Nueva SENSIBILIDAD con Submuestreo --> ',recall_regression_v_down )\n",
    "print('Nuevo F1_SCORE con Submuestreo --> ',f1_regression_v_down)"
   ]
  },
  {
   "cell_type": "markdown",
   "metadata": {},
   "source": [
    "**RESUMEN REGRESION LOGISTICA**\n",
    "\n",
    "El modelo Regresion Logistica tiene una EXACTITUD con 0.8025\n",
    "\n",
    "El modelo Regresion Logistica con la mejor PRECISION con 0.592\n",
    "\n",
    "El modelo Regresion Logistica con la mejor SENSIBILIDAD (recall) con 0.17703349282296652\n",
    "\n",
    "El modelo Regresion Logistica con el mejor F1 con 0.27255985267034993\n",
    "\n",
    "--\n",
    "\n",
    "La EXACTITUD con un modelo constante es: 0.8025\n",
    "\n",
    "La PRECISION con un modelo constante es: 0.592\n",
    "\n",
    "La SENSIBILIDAD con un modelo constante es: 0.17703349282296652\n",
    "\n",
    "El F1_SCORE con un modelo constante es: 0.27255985267034993\n",
    "\n",
    "--\n",
    "\n",
    "Nueva EXACTITUD con Sobremuestreo -->  0.6875\n",
    "\n",
    "Nueva PRECISION con Sobremuestreo -->  0.3650586701434159\n",
    "\n",
    "Nueva SENSIBILIDAD con Sobremuestreo -->  0.6698564593301436\n",
    "\n",
    "Nuevo F1_SCORE con Sobremuestreo -->  0.47257383966244726\n",
    "\n",
    "--\n",
    "\n",
    "Nueva EXACTITUD con Submuestreo -->  0.688\n",
    "\n",
    "Nueva PRECISION con Submuestreo -->  0.3676092544987147\n",
    "\n",
    "Nueva SENSIBILIDAD con Submuestreo -->  0.6842105263157895\n",
    "\n",
    "Nuevo F1_SCORE con Submuestreo -->  0.4782608695652174\n",
    "\n",
    "--\n",
    "\n",
    "Hay una mejora despues de haber hecho un Submuestro y Sobremuestreo, podemos comparar con respecto al modelo pricipal con sus valores por defecto que ha mejorado bastante al balancear el cojunto de datos del objetivo. \n"
   ]
  },
  {
   "cell_type": "code",
   "execution_count": 46,
   "metadata": {},
   "outputs": [
    {
     "name": "stdout",
     "output_type": "stream",
     "text": [
      "Acorde con el Model LogicticRegression y un submuestreo, tenemos las siguientes probabilidades de que el resultado sea :\n",
      " Negativa(0) -- Positiva(1)\n",
      " [[0.62547364 0.37452636]\n",
      " [0.58536181 0.41463819]\n",
      " [0.75046499 0.24953501]\n",
      " ...\n",
      " [0.59240229 0.40759771]\n",
      " [0.28513161 0.71486839]\n",
      " [0.29157807 0.70842193]]\n",
      "Threshold| Precision| Recall| F1_SCORE\n",
      "0.00     | 0.209    | 1.000 | 0.346 \n",
      "\n",
      "Threshold| Precision| Recall| F1_SCORE\n",
      "0.10     | 0.216    | 1.000 | 0.355 \n",
      "\n",
      "Threshold| Precision| Recall| F1_SCORE\n",
      "0.20     | 0.242    | 0.976 | 0.388 \n",
      "\n",
      "Threshold| Precision| Recall| F1_SCORE\n",
      "0.30     | 0.277    | 0.907 | 0.424 \n",
      "\n",
      "Threshold| Precision| Recall| F1_SCORE\n",
      "0.40     | 0.318    | 0.816 | 0.458 \n",
      "\n",
      "Threshold| Precision| Recall| F1_SCORE\n",
      "0.50     | 0.368    | 0.684 | 0.478 \n",
      "\n",
      "Threshold| Precision| Recall| F1_SCORE\n",
      "0.60     | 0.417    | 0.550 | 0.475 \n",
      "\n",
      "Threshold| Precision| Recall| F1_SCORE\n",
      "0.70     | 0.476    | 0.395 | 0.431 \n",
      "\n",
      "Threshold| Precision| Recall| F1_SCORE\n",
      "0.80     | 0.494    | 0.208 | 0.293 \n",
      "\n",
      "Threshold| Precision| Recall| F1_SCORE\n",
      "0.90     | 0.441    | 0.062 | 0.109 \n",
      "\n"
     ]
    }
   ],
   "source": [
    "model_regression = LogisticRegression(random_state= 12345, solver='liblinear', class_weight= 'balanced')\n",
    "model_regression.fit(features_down_regression , target_down_regression)\n",
    "\n",
    "probabilities_regression_valid = model_regression.predict_proba(features_valid_o)\n",
    "probabilities_one_regression_valid = probabilities_regression_valid[:,1]\n",
    "\n",
    "print('Acorde con el Model LogicticRegression y un submuestreo, tenemos las siguientes probabilidades de que el resultado sea :\\n Negativa(0) -- Positiva(1)\\n'\n",
    "      ,probabilities_regression_valid)\n",
    "\n",
    "for threshold in np.arange(0, 1 , 0.1):\n",
    "    \n",
    "    predicted_regression_valid = probabilities_one_regression_valid > threshold\n",
    "    #print(predicted_regression_valid)\n",
    "    precision_regression_umbral = precision_score(target_valid_o , predicted_regression_valid)\n",
    "    recall_regression_umbral = recall_score(target_valid_o , predicted_regression_valid)\n",
    "    f1_regression_umbral = f1_score(target_valid_o , predicted_regression_valid)\n",
    "    print('Threshold| Precision| Recall| F1_SCORE')\n",
    "    print('{:.2f}     | {:.3f}    | {:.3f} | {:.3f}'.format(threshold,precision_regression_umbral,recall_regression_umbral,f1_regression_umbral),'\\n')"
   ]
  },
  {
   "cell_type": "markdown",
   "metadata": {},
   "source": [
    "Podemos ver que mientras menor sea nuestra precision, mayor será nuestra sensibilidad.\n",
    "Con un umbral normal de 0.5 tenemos una division interesante, ya que mientras subimos apartir de 0.5 vemos que la precision aumenta y la sensibilidad diminuye y miestras bajamos apartir de 0.5 pasa lo contratio. Esto es porque mientras el threshold aumente, la probabilidad de que el objetivo sea negativo aumenta y mientas bajamos el umbral la probalidad de que la respuesta sea positiva aumenta. \n",
    "\n",
    "La sensibilidad califica todas las respuestas positivas que se hayan predicho, sean correctas o no. Da un valor sobre todos los VP que se obtivieron sobre todos los valores que realmente son postivos. Entonces al aumentar la probabilidad de obtener respuestas positivas, por ende tendremos mejor sensibilidad. \n",
    "\n",
    "En el caso de la precision hacemos una comparacion entre las respuestas VP y las respues que son VP y las que se predijeron como positivas pero eran negativas. Por lo que, tenemos menor precision cuando aumentamos la probabilidad de que sean positivas porque le estamos aumentando el umbral a la posibilidad de que los clientes se vayan. "
   ]
  },
  {
   "cell_type": "code",
   "execution_count": 47,
   "metadata": {},
   "outputs": [],
   "source": [
    "precision_pr_regression , recall_pr_regression , threshold_pr_regression = precision_recall_curve(\n",
    "    target_valid_o, probabilities_one_regression_valid\n",
    ")"
   ]
  },
  {
   "cell_type": "code",
   "execution_count": 48,
   "metadata": {},
   "outputs": [
    {
     "data": {
      "image/png": "[encoded data removed]",
      "text/plain": [
       "<Figure size 600x600 with 1 Axes>"
      ]
     },
     "metadata": {},
     "output_type": "display_data"
    }
   ],
   "source": [
    "plt.figure(figsize = (6,6))\n",
    "plt.step(recall_pr_regression, precision_pr_regression, where= 'post')\n",
    "plt.xlabel('Recall')\n",
    "plt.xlim([0.0 , 1.0])\n",
    "plt.ylabel('Precision')\n",
    "plt.ylim([0.0 , 1.05])\n",
    "plt.title('Precision - Recall Curve LOGISTIC REGRESSION')\n",
    "plt.show()"
   ]
  },
  {
   "cell_type": "code",
   "execution_count": 49,
   "metadata": {},
   "outputs": [
    {
     "data": {
      "text/plain": [
       "Text(0.5, 1.0, 'Curva ROC LOGISTIC REGRESSION')"
      ]
     },
     "execution_count": 49,
     "metadata": {},
     "output_type": "execute_result"
    },
    {
     "data": {
      "image/png": "[encoded data removed]",
      "text/plain": [
       "<Figure size 640x480 with 1 Axes>"
      ]
     },
     "metadata": {},
     "output_type": "display_data"
    }
   ],
   "source": [
    "fpr_regression , tpr_regression , th_regression = roc_curve(target_valid_o , probabilities_one_regression_valid)\n",
    "\n",
    "plt.figure()\n",
    "plt.plot(fpr_regression , tpr_regression)\n",
    "plt.plot([0 , 1] , [0 , 1], linestyle = '--')\n",
    "plt.xlim([0.0 , 1.0])\n",
    "plt.ylim([0.0 , 1.0])\n",
    "plt.xlabel('Tasa de Falsos Positivos LR')\n",
    "plt.ylabel('Tasa de Verdaderos Positivos LR')\n",
    "plt.title('Curva ROC LOGISTIC REGRESSION')"
   ]
  },
  {
   "cell_type": "code",
   "execution_count": 50,
   "metadata": {},
   "outputs": [
    {
     "name": "stdout",
     "output_type": "stream",
     "text": [
      "0.7470693023790369\n"
     ]
    }
   ],
   "source": [
    "auc_roc_regression = roc_auc_score(target_valid_o , probabilities_one_regression_valid)\n",
    "print(auc_roc_regression)"
   ]
  },
  {
   "cell_type": "markdown",
   "metadata": {},
   "source": [
    "**CONCLUSION REGRESION LOGISTICA**\n",
    "\n",
    "Hubo una mejora en el F1_SCORE en el modelo Regresion Logistica desde los valores por defecto y con un conjunto debalanceado, terminando con un 0.478.\n",
    "Es el mas bajo dentro de los 3 modelos estudiados, sin embargo fue el que tuvo una gran mejora despues de hacer un balance en los datos.\n",
    "\n",
    "De igual forma, en comparacion con un modelo constante y uno aleatorio, esta por arriba. Con un AUC-ROC de 0.747."
   ]
  },
  {
   "cell_type": "markdown",
   "metadata": {},
   "source": [
    "CONCLUSIONES GENERALES\n",
    "---\n",
    "\n",
    "Para elegir un modelo que haga la mejor prediccion respecto a si un cliente se irá o no se revisaron 3 modelos distintos que cumplian con el objetivo del Banco. \n",
    "Se trabajaron los datos para balancearlos, se revisaron direfentes metricas para calificarlos. \n",
    "\n",
    "Despues de entrenar y validar varios modelos, el mejor F1_SCORE fue del 0.598 con el modelo de Arbol aleatorio. \n",
    "Probemos que el modelo es funcional con el conjunto de prueba:"
   ]
  },
  {
   "cell_type": "code",
   "execution_count": 51,
   "metadata": {},
   "outputs": [
    {
     "name": "stdout",
     "output_type": "stream",
     "text": [
      "Como prueba final, probamos nuestro modelo entrenado \n",
      "RandomForestClassifier(class_weight='balanced', max_depth=9, n_estimators=6,\n",
      "                       random_state=12345) \n",
      "con el conjunto de prurba obteniendo:\n",
      "Precision: 0.535 \n",
      "Recall: 0.709 \n",
      "F1_SCORE: 0.610 \n"
     ]
    }
   ],
   "source": [
    "model_forest = RandomForestClassifier(random_state= 12345, n_estimators= 6, max_depth= 9 , class_weight= 'balanced')\n",
    "model_forest.fit(features_up, target_up)\n",
    "\n",
    "predictions_test_forest_final = model_forest.predict(features_test)\n",
    "precision_final = precision_score(target_test , predictions_test_forest_final)\n",
    "recall_final = recall_score(target_test , predictions_test_forest_final)\n",
    "f1_final = f1_score(target_test , predictions_test_forest_final)\n",
    "print('Como prueba final, probamos nuestro modelo entrenado \\n{} \\ncon el conjunto de prurba obteniendo:\\nPrecision: {:.3f} \\nRecall: {:.3f} \\nF1_SCORE: {:.3f} '.\n",
    "      format(model_forest,precision_final,recall_final,f1_final))"
   ]
  }
 ],
 "metadata": {
  "kernelspec": {
   "display_name": "Python 3",
   "language": "python",
   "name": "python3"
  },
  "language_info": {
   "codemirror_mode": {
    "name": "ipython",
    "version": 3
   },
   "file_extension": ".py",
   "mimetype": "text/x-python",
   "name": "python",
   "nbconvert_exporter": "python",
   "pygments_lexer": "ipython3",
   "version": "3.12.4"
  }
 },
 "nbformat": 4,
 "nbformat_minor": 2
}
